{
  "nbformat": 4,
  "nbformat_minor": 0,
  "metadata": {
    "kernelspec": {
      "display_name": "Python 3",
      "language": "python",
      "name": "python3"
    },
    "language_info": {
      "codemirror_mode": {
        "name": "ipython",
        "version": 3
      },
      "file_extension": ".py",
      "mimetype": "text/x-python",
      "name": "python",
      "nbconvert_exporter": "python",
      "pygments_lexer": "ipython3",
      "version": "3.7.3"
    },
    "colab": {
      "name": "ipl preduction complete.ipynb",
      "provenance": []
    }
  },
  "cells": [
    {
      "cell_type": "markdown",
      "metadata": {
        "id": "DV1jNyUs8_fq"
      },
      "source": [
        "#                                 #FINDING ACCURACY\n",
        "                                   USING IPL DATA "
      ]
    },
    {
      "cell_type": "code",
      "metadata": {
        "id": "QeCdwU0m8_f6"
      },
      "source": [
        "import numpy as np \n",
        "import pandas as pd \n",
        "import seaborn as sns                  \n",
        "import matplotlib.pyplot as plt        \n",
        "%matplotlib inline                  \n",
        "import warnings                     "
      ],
      "execution_count": null,
      "outputs": []
    },
    {
      "cell_type": "code",
      "metadata": {
        "id": "V-bT890l8_f8",
        "outputId": "7a728c45-3c02-4071-f8d0-9a5c4b85449b"
      },
      "source": [
        "matches=pd.read_csv('D:\\machine learning\\project\\ipl2\\matches.csv')\n",
        "matches.info()\n",
        "deliveries=pd.read_csv('D:\\machine learning\\project\\ipl\\deliveries.csv')\n",
        "deliveries.info()\n",
        "deliveries.head()"
      ],
      "execution_count": null,
      "outputs": [
        {
          "output_type": "stream",
          "text": [
            "<class 'pandas.core.frame.DataFrame'>\n",
            "RangeIndex: 577 entries, 0 to 576\n",
            "Data columns (total 18 columns):\n",
            "id                 577 non-null int64\n",
            "season             577 non-null int64\n",
            "city               570 non-null object\n",
            "date               577 non-null object\n",
            "team1              577 non-null object\n",
            "team2              577 non-null object\n",
            "toss_winner        577 non-null object\n",
            "toss_decision      577 non-null object\n",
            "result             577 non-null object\n",
            "dl_applied         577 non-null int64\n",
            "winner             574 non-null object\n",
            "win_by_runs        577 non-null int64\n",
            "win_by_wickets     577 non-null int64\n",
            "player_of_match    574 non-null object\n",
            "venue              577 non-null object\n",
            "umpire1            577 non-null object\n",
            "umpire2            577 non-null object\n",
            "umpire3            0 non-null float64\n",
            "dtypes: float64(1), int64(5), object(12)\n",
            "memory usage: 81.2+ KB\n",
            "<class 'pandas.core.frame.DataFrame'>\n",
            "RangeIndex: 150460 entries, 0 to 150459\n",
            "Data columns (total 21 columns):\n",
            "match_id            150460 non-null int64\n",
            "inning              150460 non-null int64\n",
            "batting_team        150460 non-null object\n",
            "bowling_team        150460 non-null object\n",
            "over                150460 non-null int64\n",
            "ball                150460 non-null int64\n",
            "batsman             150460 non-null object\n",
            "non_striker         150460 non-null object\n",
            "bowler              150460 non-null object\n",
            "is_super_over       150460 non-null int64\n",
            "wide_runs           150460 non-null int64\n",
            "bye_runs            150460 non-null int64\n",
            "legbye_runs         150460 non-null int64\n",
            "noball_runs         150460 non-null int64\n",
            "penalty_runs        150460 non-null int64\n",
            "batsman_runs        150460 non-null int64\n",
            "extra_runs          150460 non-null int64\n",
            "total_runs          150460 non-null int64\n",
            "player_dismissed    7438 non-null object\n",
            "dismissal_kind      7438 non-null object\n",
            "fielder             5369 non-null object\n",
            "dtypes: int64(13), object(8)\n",
            "memory usage: 24.1+ MB\n"
          ],
          "name": "stdout"
        },
        {
          "output_type": "execute_result",
          "data": {
            "text/html": [
              "<div>\n",
              "<style scoped>\n",
              "    .dataframe tbody tr th:only-of-type {\n",
              "        vertical-align: middle;\n",
              "    }\n",
              "\n",
              "    .dataframe tbody tr th {\n",
              "        vertical-align: top;\n",
              "    }\n",
              "\n",
              "    .dataframe thead th {\n",
              "        text-align: right;\n",
              "    }\n",
              "</style>\n",
              "<table border=\"1\" class=\"dataframe\">\n",
              "  <thead>\n",
              "    <tr style=\"text-align: right;\">\n",
              "      <th></th>\n",
              "      <th>match_id</th>\n",
              "      <th>inning</th>\n",
              "      <th>batting_team</th>\n",
              "      <th>bowling_team</th>\n",
              "      <th>over</th>\n",
              "      <th>ball</th>\n",
              "      <th>batsman</th>\n",
              "      <th>non_striker</th>\n",
              "      <th>bowler</th>\n",
              "      <th>is_super_over</th>\n",
              "      <th>...</th>\n",
              "      <th>bye_runs</th>\n",
              "      <th>legbye_runs</th>\n",
              "      <th>noball_runs</th>\n",
              "      <th>penalty_runs</th>\n",
              "      <th>batsman_runs</th>\n",
              "      <th>extra_runs</th>\n",
              "      <th>total_runs</th>\n",
              "      <th>player_dismissed</th>\n",
              "      <th>dismissal_kind</th>\n",
              "      <th>fielder</th>\n",
              "    </tr>\n",
              "  </thead>\n",
              "  <tbody>\n",
              "    <tr>\n",
              "      <th>0</th>\n",
              "      <td>1</td>\n",
              "      <td>1</td>\n",
              "      <td>Sunrisers Hyderabad</td>\n",
              "      <td>Royal Challengers Bangalore</td>\n",
              "      <td>1</td>\n",
              "      <td>1</td>\n",
              "      <td>DA Warner</td>\n",
              "      <td>S Dhawan</td>\n",
              "      <td>TS Mills</td>\n",
              "      <td>0</td>\n",
              "      <td>...</td>\n",
              "      <td>0</td>\n",
              "      <td>0</td>\n",
              "      <td>0</td>\n",
              "      <td>0</td>\n",
              "      <td>0</td>\n",
              "      <td>0</td>\n",
              "      <td>0</td>\n",
              "      <td>NaN</td>\n",
              "      <td>NaN</td>\n",
              "      <td>NaN</td>\n",
              "    </tr>\n",
              "    <tr>\n",
              "      <th>1</th>\n",
              "      <td>1</td>\n",
              "      <td>1</td>\n",
              "      <td>Sunrisers Hyderabad</td>\n",
              "      <td>Royal Challengers Bangalore</td>\n",
              "      <td>1</td>\n",
              "      <td>2</td>\n",
              "      <td>DA Warner</td>\n",
              "      <td>S Dhawan</td>\n",
              "      <td>TS Mills</td>\n",
              "      <td>0</td>\n",
              "      <td>...</td>\n",
              "      <td>0</td>\n",
              "      <td>0</td>\n",
              "      <td>0</td>\n",
              "      <td>0</td>\n",
              "      <td>0</td>\n",
              "      <td>0</td>\n",
              "      <td>0</td>\n",
              "      <td>NaN</td>\n",
              "      <td>NaN</td>\n",
              "      <td>NaN</td>\n",
              "    </tr>\n",
              "    <tr>\n",
              "      <th>2</th>\n",
              "      <td>1</td>\n",
              "      <td>1</td>\n",
              "      <td>Sunrisers Hyderabad</td>\n",
              "      <td>Royal Challengers Bangalore</td>\n",
              "      <td>1</td>\n",
              "      <td>3</td>\n",
              "      <td>DA Warner</td>\n",
              "      <td>S Dhawan</td>\n",
              "      <td>TS Mills</td>\n",
              "      <td>0</td>\n",
              "      <td>...</td>\n",
              "      <td>0</td>\n",
              "      <td>0</td>\n",
              "      <td>0</td>\n",
              "      <td>0</td>\n",
              "      <td>4</td>\n",
              "      <td>0</td>\n",
              "      <td>4</td>\n",
              "      <td>NaN</td>\n",
              "      <td>NaN</td>\n",
              "      <td>NaN</td>\n",
              "    </tr>\n",
              "    <tr>\n",
              "      <th>3</th>\n",
              "      <td>1</td>\n",
              "      <td>1</td>\n",
              "      <td>Sunrisers Hyderabad</td>\n",
              "      <td>Royal Challengers Bangalore</td>\n",
              "      <td>1</td>\n",
              "      <td>4</td>\n",
              "      <td>DA Warner</td>\n",
              "      <td>S Dhawan</td>\n",
              "      <td>TS Mills</td>\n",
              "      <td>0</td>\n",
              "      <td>...</td>\n",
              "      <td>0</td>\n",
              "      <td>0</td>\n",
              "      <td>0</td>\n",
              "      <td>0</td>\n",
              "      <td>0</td>\n",
              "      <td>0</td>\n",
              "      <td>0</td>\n",
              "      <td>NaN</td>\n",
              "      <td>NaN</td>\n",
              "      <td>NaN</td>\n",
              "    </tr>\n",
              "    <tr>\n",
              "      <th>4</th>\n",
              "      <td>1</td>\n",
              "      <td>1</td>\n",
              "      <td>Sunrisers Hyderabad</td>\n",
              "      <td>Royal Challengers Bangalore</td>\n",
              "      <td>1</td>\n",
              "      <td>5</td>\n",
              "      <td>DA Warner</td>\n",
              "      <td>S Dhawan</td>\n",
              "      <td>TS Mills</td>\n",
              "      <td>0</td>\n",
              "      <td>...</td>\n",
              "      <td>0</td>\n",
              "      <td>0</td>\n",
              "      <td>0</td>\n",
              "      <td>0</td>\n",
              "      <td>0</td>\n",
              "      <td>2</td>\n",
              "      <td>2</td>\n",
              "      <td>NaN</td>\n",
              "      <td>NaN</td>\n",
              "      <td>NaN</td>\n",
              "    </tr>\n",
              "  </tbody>\n",
              "</table>\n",
              "<p>5 rows × 21 columns</p>\n",
              "</div>"
            ],
            "text/plain": [
              "   match_id  inning         batting_team                 bowling_team  over  \\\n",
              "0         1       1  Sunrisers Hyderabad  Royal Challengers Bangalore     1   \n",
              "1         1       1  Sunrisers Hyderabad  Royal Challengers Bangalore     1   \n",
              "2         1       1  Sunrisers Hyderabad  Royal Challengers Bangalore     1   \n",
              "3         1       1  Sunrisers Hyderabad  Royal Challengers Bangalore     1   \n",
              "4         1       1  Sunrisers Hyderabad  Royal Challengers Bangalore     1   \n",
              "\n",
              "   ball    batsman non_striker    bowler  is_super_over  ...  bye_runs  \\\n",
              "0     1  DA Warner    S Dhawan  TS Mills              0  ...         0   \n",
              "1     2  DA Warner    S Dhawan  TS Mills              0  ...         0   \n",
              "2     3  DA Warner    S Dhawan  TS Mills              0  ...         0   \n",
              "3     4  DA Warner    S Dhawan  TS Mills              0  ...         0   \n",
              "4     5  DA Warner    S Dhawan  TS Mills              0  ...         0   \n",
              "\n",
              "   legbye_runs  noball_runs  penalty_runs  batsman_runs  extra_runs  \\\n",
              "0            0            0             0             0           0   \n",
              "1            0            0             0             0           0   \n",
              "2            0            0             0             4           0   \n",
              "3            0            0             0             0           0   \n",
              "4            0            0             0             0           2   \n",
              "\n",
              "   total_runs  player_dismissed dismissal_kind fielder  \n",
              "0           0               NaN            NaN     NaN  \n",
              "1           0               NaN            NaN     NaN  \n",
              "2           4               NaN            NaN     NaN  \n",
              "3           0               NaN            NaN     NaN  \n",
              "4           2               NaN            NaN     NaN  \n",
              "\n",
              "[5 rows x 21 columns]"
            ]
          },
          "metadata": {
            "tags": []
          },
          "execution_count": 23
        }
      ]
    },
    {
      "cell_type": "code",
      "metadata": {
        "id": "Rda-m28U8_f-",
        "outputId": "e001ed90-260a-4f7f-db62-874576b7c099"
      },
      "source": [
        "matches.head(7)"
      ],
      "execution_count": null,
      "outputs": [
        {
          "output_type": "execute_result",
          "data": {
            "text/html": [
              "<div>\n",
              "<style scoped>\n",
              "    .dataframe tbody tr th:only-of-type {\n",
              "        vertical-align: middle;\n",
              "    }\n",
              "\n",
              "    .dataframe tbody tr th {\n",
              "        vertical-align: top;\n",
              "    }\n",
              "\n",
              "    .dataframe thead th {\n",
              "        text-align: right;\n",
              "    }\n",
              "</style>\n",
              "<table border=\"1\" class=\"dataframe\">\n",
              "  <thead>\n",
              "    <tr style=\"text-align: right;\">\n",
              "      <th></th>\n",
              "      <th>id</th>\n",
              "      <th>season</th>\n",
              "      <th>city</th>\n",
              "      <th>date</th>\n",
              "      <th>team1</th>\n",
              "      <th>team2</th>\n",
              "      <th>toss_winner</th>\n",
              "      <th>toss_decision</th>\n",
              "      <th>result</th>\n",
              "      <th>dl_applied</th>\n",
              "      <th>winner</th>\n",
              "      <th>win_by_runs</th>\n",
              "      <th>win_by_wickets</th>\n",
              "      <th>player_of_match</th>\n",
              "      <th>venue</th>\n",
              "      <th>umpire1</th>\n",
              "      <th>umpire2</th>\n",
              "      <th>umpire3</th>\n",
              "    </tr>\n",
              "  </thead>\n",
              "  <tbody>\n",
              "    <tr>\n",
              "      <th>0</th>\n",
              "      <td>1</td>\n",
              "      <td>2008</td>\n",
              "      <td>Bangalore</td>\n",
              "      <td>4/18/2008</td>\n",
              "      <td>Kolkata Knight Riders</td>\n",
              "      <td>Royal Challengers Bangalore</td>\n",
              "      <td>Royal Challengers Bangalore</td>\n",
              "      <td>field</td>\n",
              "      <td>normal</td>\n",
              "      <td>0</td>\n",
              "      <td>Kolkata Knight Riders</td>\n",
              "      <td>140</td>\n",
              "      <td>0</td>\n",
              "      <td>BB McCullum</td>\n",
              "      <td>M Chinnaswamy Stadium</td>\n",
              "      <td>Asad Rauf</td>\n",
              "      <td>RE Koertzen</td>\n",
              "      <td>NaN</td>\n",
              "    </tr>\n",
              "    <tr>\n",
              "      <th>1</th>\n",
              "      <td>2</td>\n",
              "      <td>2008</td>\n",
              "      <td>Chandigarh</td>\n",
              "      <td>4/19/2008</td>\n",
              "      <td>Chennai Super Kings</td>\n",
              "      <td>Kings XI Punjab</td>\n",
              "      <td>Chennai Super Kings</td>\n",
              "      <td>bat</td>\n",
              "      <td>normal</td>\n",
              "      <td>0</td>\n",
              "      <td>Chennai Super Kings</td>\n",
              "      <td>33</td>\n",
              "      <td>0</td>\n",
              "      <td>MEK Hussey</td>\n",
              "      <td>Punjab Cricket Association Stadium, Mohali</td>\n",
              "      <td>MR Benson</td>\n",
              "      <td>SL Shastri</td>\n",
              "      <td>NaN</td>\n",
              "    </tr>\n",
              "    <tr>\n",
              "      <th>2</th>\n",
              "      <td>3</td>\n",
              "      <td>2008</td>\n",
              "      <td>Delhi</td>\n",
              "      <td>4/19/2008</td>\n",
              "      <td>Rajasthan Royals</td>\n",
              "      <td>Delhi Daredevils</td>\n",
              "      <td>Rajasthan Royals</td>\n",
              "      <td>bat</td>\n",
              "      <td>normal</td>\n",
              "      <td>0</td>\n",
              "      <td>Delhi Daredevils</td>\n",
              "      <td>0</td>\n",
              "      <td>9</td>\n",
              "      <td>MF Maharoof</td>\n",
              "      <td>Feroz Shah Kotla</td>\n",
              "      <td>Aleem Dar</td>\n",
              "      <td>GA Pratapkumar</td>\n",
              "      <td>NaN</td>\n",
              "    </tr>\n",
              "    <tr>\n",
              "      <th>3</th>\n",
              "      <td>4</td>\n",
              "      <td>2008</td>\n",
              "      <td>Mumbai</td>\n",
              "      <td>4/20/2008</td>\n",
              "      <td>Mumbai Indians</td>\n",
              "      <td>Royal Challengers Bangalore</td>\n",
              "      <td>Mumbai Indians</td>\n",
              "      <td>bat</td>\n",
              "      <td>normal</td>\n",
              "      <td>0</td>\n",
              "      <td>Royal Challengers Bangalore</td>\n",
              "      <td>0</td>\n",
              "      <td>5</td>\n",
              "      <td>MV Boucher</td>\n",
              "      <td>Wankhede Stadium</td>\n",
              "      <td>SJ Davis</td>\n",
              "      <td>DJ Harper</td>\n",
              "      <td>NaN</td>\n",
              "    </tr>\n",
              "    <tr>\n",
              "      <th>4</th>\n",
              "      <td>5</td>\n",
              "      <td>2008</td>\n",
              "      <td>Kolkata</td>\n",
              "      <td>4/20/2008</td>\n",
              "      <td>Deccan Chargers</td>\n",
              "      <td>Kolkata Knight Riders</td>\n",
              "      <td>Deccan Chargers</td>\n",
              "      <td>bat</td>\n",
              "      <td>normal</td>\n",
              "      <td>0</td>\n",
              "      <td>Kolkata Knight Riders</td>\n",
              "      <td>0</td>\n",
              "      <td>5</td>\n",
              "      <td>DJ Hussey</td>\n",
              "      <td>Eden Gardens</td>\n",
              "      <td>BF Bowden</td>\n",
              "      <td>K Hariharan</td>\n",
              "      <td>NaN</td>\n",
              "    </tr>\n",
              "    <tr>\n",
              "      <th>5</th>\n",
              "      <td>6</td>\n",
              "      <td>2008</td>\n",
              "      <td>Jaipur</td>\n",
              "      <td>4/21/2008</td>\n",
              "      <td>Kings XI Punjab</td>\n",
              "      <td>Rajasthan Royals</td>\n",
              "      <td>Kings XI Punjab</td>\n",
              "      <td>bat</td>\n",
              "      <td>normal</td>\n",
              "      <td>0</td>\n",
              "      <td>Rajasthan Royals</td>\n",
              "      <td>0</td>\n",
              "      <td>6</td>\n",
              "      <td>SR Watson</td>\n",
              "      <td>Sawai Mansingh Stadium</td>\n",
              "      <td>Aleem Dar</td>\n",
              "      <td>RB Tiffin</td>\n",
              "      <td>NaN</td>\n",
              "    </tr>\n",
              "    <tr>\n",
              "      <th>6</th>\n",
              "      <td>7</td>\n",
              "      <td>2008</td>\n",
              "      <td>Hyderabad</td>\n",
              "      <td>4/22/2008</td>\n",
              "      <td>Deccan Chargers</td>\n",
              "      <td>Delhi Daredevils</td>\n",
              "      <td>Deccan Chargers</td>\n",
              "      <td>bat</td>\n",
              "      <td>normal</td>\n",
              "      <td>0</td>\n",
              "      <td>Delhi Daredevils</td>\n",
              "      <td>0</td>\n",
              "      <td>9</td>\n",
              "      <td>V Sehwag</td>\n",
              "      <td>Rajiv Gandhi International Stadium, Uppal</td>\n",
              "      <td>IL Howell</td>\n",
              "      <td>AM Saheba</td>\n",
              "      <td>NaN</td>\n",
              "    </tr>\n",
              "  </tbody>\n",
              "</table>\n",
              "</div>"
            ],
            "text/plain": [
              "   id  season        city       date                  team1  \\\n",
              "0   1    2008   Bangalore  4/18/2008  Kolkata Knight Riders   \n",
              "1   2    2008  Chandigarh  4/19/2008    Chennai Super Kings   \n",
              "2   3    2008       Delhi  4/19/2008       Rajasthan Royals   \n",
              "3   4    2008      Mumbai  4/20/2008         Mumbai Indians   \n",
              "4   5    2008     Kolkata  4/20/2008        Deccan Chargers   \n",
              "5   6    2008      Jaipur  4/21/2008        Kings XI Punjab   \n",
              "6   7    2008   Hyderabad  4/22/2008        Deccan Chargers   \n",
              "\n",
              "                         team2                  toss_winner toss_decision  \\\n",
              "0  Royal Challengers Bangalore  Royal Challengers Bangalore         field   \n",
              "1              Kings XI Punjab          Chennai Super Kings           bat   \n",
              "2             Delhi Daredevils             Rajasthan Royals           bat   \n",
              "3  Royal Challengers Bangalore               Mumbai Indians           bat   \n",
              "4        Kolkata Knight Riders              Deccan Chargers           bat   \n",
              "5             Rajasthan Royals              Kings XI Punjab           bat   \n",
              "6             Delhi Daredevils              Deccan Chargers           bat   \n",
              "\n",
              "   result  dl_applied                       winner  win_by_runs  \\\n",
              "0  normal           0        Kolkata Knight Riders          140   \n",
              "1  normal           0          Chennai Super Kings           33   \n",
              "2  normal           0             Delhi Daredevils            0   \n",
              "3  normal           0  Royal Challengers Bangalore            0   \n",
              "4  normal           0        Kolkata Knight Riders            0   \n",
              "5  normal           0             Rajasthan Royals            0   \n",
              "6  normal           0             Delhi Daredevils            0   \n",
              "\n",
              "   win_by_wickets player_of_match                                       venue  \\\n",
              "0               0     BB McCullum                       M Chinnaswamy Stadium   \n",
              "1               0      MEK Hussey  Punjab Cricket Association Stadium, Mohali   \n",
              "2               9     MF Maharoof                            Feroz Shah Kotla   \n",
              "3               5      MV Boucher                            Wankhede Stadium   \n",
              "4               5       DJ Hussey                                Eden Gardens   \n",
              "5               6       SR Watson                      Sawai Mansingh Stadium   \n",
              "6               9        V Sehwag   Rajiv Gandhi International Stadium, Uppal   \n",
              "\n",
              "     umpire1         umpire2  umpire3  \n",
              "0  Asad Rauf     RE Koertzen      NaN  \n",
              "1  MR Benson      SL Shastri      NaN  \n",
              "2  Aleem Dar  GA Pratapkumar      NaN  \n",
              "3   SJ Davis       DJ Harper      NaN  \n",
              "4  BF Bowden     K Hariharan      NaN  \n",
              "5  Aleem Dar       RB Tiffin      NaN  \n",
              "6  IL Howell       AM Saheba      NaN  "
            ]
          },
          "metadata": {
            "tags": []
          },
          "execution_count": 24
        }
      ]
    },
    {
      "cell_type": "code",
      "metadata": {
        "id": "GJPtMe528_f_",
        "outputId": "56c155f4-0618-46e7-df20-0db285b826df"
      },
      "source": [
        "matches[pd.isnull(matches['winner'])]"
      ],
      "execution_count": null,
      "outputs": [
        {
          "output_type": "execute_result",
          "data": {
            "text/html": [
              "<div>\n",
              "<style scoped>\n",
              "    .dataframe tbody tr th:only-of-type {\n",
              "        vertical-align: middle;\n",
              "    }\n",
              "\n",
              "    .dataframe tbody tr th {\n",
              "        vertical-align: top;\n",
              "    }\n",
              "\n",
              "    .dataframe thead th {\n",
              "        text-align: right;\n",
              "    }\n",
              "</style>\n",
              "<table border=\"1\" class=\"dataframe\">\n",
              "  <thead>\n",
              "    <tr style=\"text-align: right;\">\n",
              "      <th></th>\n",
              "      <th>id</th>\n",
              "      <th>season</th>\n",
              "      <th>city</th>\n",
              "      <th>date</th>\n",
              "      <th>team1</th>\n",
              "      <th>team2</th>\n",
              "      <th>toss_winner</th>\n",
              "      <th>toss_decision</th>\n",
              "      <th>result</th>\n",
              "      <th>dl_applied</th>\n",
              "      <th>winner</th>\n",
              "      <th>win_by_runs</th>\n",
              "      <th>win_by_wickets</th>\n",
              "      <th>player_of_match</th>\n",
              "      <th>venue</th>\n",
              "      <th>umpire1</th>\n",
              "      <th>umpire2</th>\n",
              "      <th>umpire3</th>\n",
              "    </tr>\n",
              "  </thead>\n",
              "  <tbody>\n",
              "    <tr>\n",
              "      <th>241</th>\n",
              "      <td>242</td>\n",
              "      <td>2011</td>\n",
              "      <td>Delhi</td>\n",
              "      <td>5/21/2011</td>\n",
              "      <td>Delhi Daredevils</td>\n",
              "      <td>Pune Warriors</td>\n",
              "      <td>Delhi Daredevils</td>\n",
              "      <td>bat</td>\n",
              "      <td>no result</td>\n",
              "      <td>0</td>\n",
              "      <td>NaN</td>\n",
              "      <td>0</td>\n",
              "      <td>0</td>\n",
              "      <td>NaN</td>\n",
              "      <td>Feroz Shah Kotla</td>\n",
              "      <td>SS Hazare</td>\n",
              "      <td>RJ Tucker</td>\n",
              "      <td>NaN</td>\n",
              "    </tr>\n",
              "    <tr>\n",
              "      <th>486</th>\n",
              "      <td>487</td>\n",
              "      <td>2015</td>\n",
              "      <td>Bangalore</td>\n",
              "      <td>4/29/2015</td>\n",
              "      <td>Royal Challengers Bangalore</td>\n",
              "      <td>Rajasthan Royals</td>\n",
              "      <td>Rajasthan Royals</td>\n",
              "      <td>field</td>\n",
              "      <td>no result</td>\n",
              "      <td>0</td>\n",
              "      <td>NaN</td>\n",
              "      <td>0</td>\n",
              "      <td>0</td>\n",
              "      <td>NaN</td>\n",
              "      <td>M Chinnaswamy Stadium</td>\n",
              "      <td>JD Cloete</td>\n",
              "      <td>PG Pathak</td>\n",
              "      <td>NaN</td>\n",
              "    </tr>\n",
              "    <tr>\n",
              "      <th>511</th>\n",
              "      <td>512</td>\n",
              "      <td>2015</td>\n",
              "      <td>Bangalore</td>\n",
              "      <td>5/17/2015</td>\n",
              "      <td>Delhi Daredevils</td>\n",
              "      <td>Royal Challengers Bangalore</td>\n",
              "      <td>Royal Challengers Bangalore</td>\n",
              "      <td>field</td>\n",
              "      <td>no result</td>\n",
              "      <td>0</td>\n",
              "      <td>NaN</td>\n",
              "      <td>0</td>\n",
              "      <td>0</td>\n",
              "      <td>NaN</td>\n",
              "      <td>M Chinnaswamy Stadium</td>\n",
              "      <td>HDPK Dharmasena</td>\n",
              "      <td>K Srinivasan</td>\n",
              "      <td>NaN</td>\n",
              "    </tr>\n",
              "  </tbody>\n",
              "</table>\n",
              "</div>"
            ],
            "text/plain": [
              "      id  season       city       date                        team1  \\\n",
              "241  242    2011      Delhi  5/21/2011             Delhi Daredevils   \n",
              "486  487    2015  Bangalore  4/29/2015  Royal Challengers Bangalore   \n",
              "511  512    2015  Bangalore  5/17/2015             Delhi Daredevils   \n",
              "\n",
              "                           team2                  toss_winner toss_decision  \\\n",
              "241                Pune Warriors             Delhi Daredevils           bat   \n",
              "486             Rajasthan Royals             Rajasthan Royals         field   \n",
              "511  Royal Challengers Bangalore  Royal Challengers Bangalore         field   \n",
              "\n",
              "        result  dl_applied winner  win_by_runs  win_by_wickets  \\\n",
              "241  no result           0    NaN            0               0   \n",
              "486  no result           0    NaN            0               0   \n",
              "511  no result           0    NaN            0               0   \n",
              "\n",
              "    player_of_match                  venue          umpire1       umpire2  \\\n",
              "241             NaN       Feroz Shah Kotla        SS Hazare     RJ Tucker   \n",
              "486             NaN  M Chinnaswamy Stadium        JD Cloete     PG Pathak   \n",
              "511             NaN  M Chinnaswamy Stadium  HDPK Dharmasena  K Srinivasan   \n",
              "\n",
              "     umpire3  \n",
              "241      NaN  \n",
              "486      NaN  \n",
              "511      NaN  "
            ]
          },
          "metadata": {
            "tags": []
          },
          "execution_count": 25
        }
      ]
    },
    {
      "cell_type": "code",
      "metadata": {
        "id": "6wTITYLq8_gA"
      },
      "source": [
        "matches['winner'].fillna('Draw', inplace=True)"
      ],
      "execution_count": null,
      "outputs": []
    },
    {
      "cell_type": "code",
      "metadata": {
        "id": "i3I3z0j78_gB",
        "outputId": "5ce19fe7-8f24-4d06-b952-eb9213757325"
      },
      "source": [
        "matches.loc[241,'winner']"
      ],
      "execution_count": null,
      "outputs": [
        {
          "output_type": "execute_result",
          "data": {
            "text/plain": [
              "'Draw'"
            ]
          },
          "metadata": {
            "tags": []
          },
          "execution_count": 27
        }
      ]
    },
    {
      "cell_type": "code",
      "metadata": {
        "id": "K_78hi-F8_gC",
        "outputId": "a3be19c9-1fa2-49aa-e5af-4063288fea74"
      },
      "source": [
        "deliveries.loc[241,'over']"
      ],
      "execution_count": null,
      "outputs": [
        {
          "output_type": "execute_result",
          "data": {
            "text/plain": [
              "19"
            ]
          },
          "metadata": {
            "tags": []
          },
          "execution_count": 28
        }
      ]
    },
    {
      "cell_type": "code",
      "metadata": {
        "id": "axUdnslu8_gC",
        "outputId": "ee384a30-de2c-4a9a-a629-d9538f3d9286"
      },
      "source": [
        "matches.replace(['Mumbai Indians','Kolkata Knight Riders','Royal Challengers Bangalore','Deccan Chargers','Chennai Super Kings',\n",
        "                 'Rajasthan Royals','Delhi Daredevils','Gujarat Lions','Kings XI Punjab',\n",
        "                 'Sunrisers Hyderabad','Rising Pune Supergiants','Kochi Tuskers Kerala','Pune Warriors']\n",
        "                ,['MI','KKR','RCB','DC','CSK','RR','DD','GL','KXIP','SRH','RPS','KTK','PW'],inplace=True)\n",
        "matches.head(2)"
      ],
      "execution_count": null,
      "outputs": [
        {
          "output_type": "execute_result",
          "data": {
            "text/html": [
              "<div>\n",
              "<style scoped>\n",
              "    .dataframe tbody tr th:only-of-type {\n",
              "        vertical-align: middle;\n",
              "    }\n",
              "\n",
              "    .dataframe tbody tr th {\n",
              "        vertical-align: top;\n",
              "    }\n",
              "\n",
              "    .dataframe thead th {\n",
              "        text-align: right;\n",
              "    }\n",
              "</style>\n",
              "<table border=\"1\" class=\"dataframe\">\n",
              "  <thead>\n",
              "    <tr style=\"text-align: right;\">\n",
              "      <th></th>\n",
              "      <th>id</th>\n",
              "      <th>season</th>\n",
              "      <th>city</th>\n",
              "      <th>date</th>\n",
              "      <th>team1</th>\n",
              "      <th>team2</th>\n",
              "      <th>toss_winner</th>\n",
              "      <th>toss_decision</th>\n",
              "      <th>result</th>\n",
              "      <th>dl_applied</th>\n",
              "      <th>winner</th>\n",
              "      <th>win_by_runs</th>\n",
              "      <th>win_by_wickets</th>\n",
              "      <th>player_of_match</th>\n",
              "      <th>venue</th>\n",
              "      <th>umpire1</th>\n",
              "      <th>umpire2</th>\n",
              "      <th>umpire3</th>\n",
              "    </tr>\n",
              "  </thead>\n",
              "  <tbody>\n",
              "    <tr>\n",
              "      <th>0</th>\n",
              "      <td>1</td>\n",
              "      <td>2008</td>\n",
              "      <td>Bangalore</td>\n",
              "      <td>4/18/2008</td>\n",
              "      <td>KKR</td>\n",
              "      <td>RCB</td>\n",
              "      <td>RCB</td>\n",
              "      <td>field</td>\n",
              "      <td>normal</td>\n",
              "      <td>0</td>\n",
              "      <td>KKR</td>\n",
              "      <td>140</td>\n",
              "      <td>0</td>\n",
              "      <td>BB McCullum</td>\n",
              "      <td>M Chinnaswamy Stadium</td>\n",
              "      <td>Asad Rauf</td>\n",
              "      <td>RE Koertzen</td>\n",
              "      <td>NaN</td>\n",
              "    </tr>\n",
              "    <tr>\n",
              "      <th>1</th>\n",
              "      <td>2</td>\n",
              "      <td>2008</td>\n",
              "      <td>Chandigarh</td>\n",
              "      <td>4/19/2008</td>\n",
              "      <td>CSK</td>\n",
              "      <td>KXIP</td>\n",
              "      <td>CSK</td>\n",
              "      <td>bat</td>\n",
              "      <td>normal</td>\n",
              "      <td>0</td>\n",
              "      <td>CSK</td>\n",
              "      <td>33</td>\n",
              "      <td>0</td>\n",
              "      <td>MEK Hussey</td>\n",
              "      <td>Punjab Cricket Association Stadium, Mohali</td>\n",
              "      <td>MR Benson</td>\n",
              "      <td>SL Shastri</td>\n",
              "      <td>NaN</td>\n",
              "    </tr>\n",
              "  </tbody>\n",
              "</table>\n",
              "</div>"
            ],
            "text/plain": [
              "   id  season        city       date team1 team2 toss_winner toss_decision  \\\n",
              "0   1    2008   Bangalore  4/18/2008   KKR   RCB         RCB         field   \n",
              "1   2    2008  Chandigarh  4/19/2008   CSK  KXIP         CSK           bat   \n",
              "\n",
              "   result  dl_applied winner  win_by_runs  win_by_wickets player_of_match  \\\n",
              "0  normal           0    KKR          140               0     BB McCullum   \n",
              "1  normal           0    CSK           33               0      MEK Hussey   \n",
              "\n",
              "                                        venue    umpire1      umpire2  umpire3  \n",
              "0                       M Chinnaswamy Stadium  Asad Rauf  RE Koertzen      NaN  \n",
              "1  Punjab Cricket Association Stadium, Mohali  MR Benson   SL Shastri      NaN  "
            ]
          },
          "metadata": {
            "tags": []
          },
          "execution_count": 29
        }
      ]
    },
    {
      "cell_type": "code",
      "metadata": {
        "id": "zyHxnaPt8_gD",
        "outputId": "5e360776-f384-45fe-924b-3601a963e91a"
      },
      "source": [
        "change = {'team1': {'MI':1,'KKR':2,'RCB':3,'DC':4,'CSK':5,'RR':6,'DD':7,'GL':8,'KXIP':9,'SRH':10,'RPS':11,'KTK':12,'PW':13},\n",
        "          'team2': {'MI':1,'KKR':2,'RCB':3,'DC':4,'CSK':5,'RR':6,'DD':7,'GL':8,'KXIP':9,'SRH':10,'RPS':11,'KTK':12,'PW':13},\n",
        "          'toss_winner': {'MI':1,'KKR':2,'RCB':3,'DC':4,'CSK':5,'RR':6,'DD':7,'GL':8,'KXIP':9,'SRH':10,'RPS':11,'KTK':12,'PW':13},\n",
        "          'winner': {'MI':1,'KKR':2,'RCB':3,'DC':4,'CSK':5,'RR':6,'DD':7,'GL':8,'KXIP':9,'SRH':10,'RPS':11,'KTK':12,'PW':13,'Draw':14}}\n",
        "matches.replace(encode, inplace=True)\n",
        "matches.head(2)"
      ],
      "execution_count": null,
      "outputs": [
        {
          "output_type": "execute_result",
          "data": {
            "text/html": [
              "<div>\n",
              "<style scoped>\n",
              "    .dataframe tbody tr th:only-of-type {\n",
              "        vertical-align: middle;\n",
              "    }\n",
              "\n",
              "    .dataframe tbody tr th {\n",
              "        vertical-align: top;\n",
              "    }\n",
              "\n",
              "    .dataframe thead th {\n",
              "        text-align: right;\n",
              "    }\n",
              "</style>\n",
              "<table border=\"1\" class=\"dataframe\">\n",
              "  <thead>\n",
              "    <tr style=\"text-align: right;\">\n",
              "      <th></th>\n",
              "      <th>id</th>\n",
              "      <th>season</th>\n",
              "      <th>city</th>\n",
              "      <th>date</th>\n",
              "      <th>team1</th>\n",
              "      <th>team2</th>\n",
              "      <th>toss_winner</th>\n",
              "      <th>toss_decision</th>\n",
              "      <th>result</th>\n",
              "      <th>dl_applied</th>\n",
              "      <th>winner</th>\n",
              "      <th>win_by_runs</th>\n",
              "      <th>win_by_wickets</th>\n",
              "      <th>player_of_match</th>\n",
              "      <th>venue</th>\n",
              "      <th>umpire1</th>\n",
              "      <th>umpire2</th>\n",
              "      <th>umpire3</th>\n",
              "    </tr>\n",
              "  </thead>\n",
              "  <tbody>\n",
              "    <tr>\n",
              "      <th>0</th>\n",
              "      <td>1</td>\n",
              "      <td>2008</td>\n",
              "      <td>Bangalore</td>\n",
              "      <td>4/18/2008</td>\n",
              "      <td>2</td>\n",
              "      <td>3</td>\n",
              "      <td>3</td>\n",
              "      <td>field</td>\n",
              "      <td>normal</td>\n",
              "      <td>0</td>\n",
              "      <td>2</td>\n",
              "      <td>140</td>\n",
              "      <td>0</td>\n",
              "      <td>BB McCullum</td>\n",
              "      <td>M Chinnaswamy Stadium</td>\n",
              "      <td>Asad Rauf</td>\n",
              "      <td>RE Koertzen</td>\n",
              "      <td>NaN</td>\n",
              "    </tr>\n",
              "    <tr>\n",
              "      <th>1</th>\n",
              "      <td>2</td>\n",
              "      <td>2008</td>\n",
              "      <td>Chandigarh</td>\n",
              "      <td>4/19/2008</td>\n",
              "      <td>5</td>\n",
              "      <td>9</td>\n",
              "      <td>5</td>\n",
              "      <td>bat</td>\n",
              "      <td>normal</td>\n",
              "      <td>0</td>\n",
              "      <td>5</td>\n",
              "      <td>33</td>\n",
              "      <td>0</td>\n",
              "      <td>MEK Hussey</td>\n",
              "      <td>Punjab Cricket Association Stadium, Mohali</td>\n",
              "      <td>MR Benson</td>\n",
              "      <td>SL Shastri</td>\n",
              "      <td>NaN</td>\n",
              "    </tr>\n",
              "  </tbody>\n",
              "</table>\n",
              "</div>"
            ],
            "text/plain": [
              "   id  season        city       date  team1  team2  toss_winner toss_decision  \\\n",
              "0   1    2008   Bangalore  4/18/2008      2      3            3         field   \n",
              "1   2    2008  Chandigarh  4/19/2008      5      9            5           bat   \n",
              "\n",
              "   result  dl_applied  winner  win_by_runs  win_by_wickets player_of_match  \\\n",
              "0  normal           0       2          140               0     BB McCullum   \n",
              "1  normal           0       5           33               0      MEK Hussey   \n",
              "\n",
              "                                        venue    umpire1      umpire2  umpire3  \n",
              "0                       M Chinnaswamy Stadium  Asad Rauf  RE Koertzen      NaN  \n",
              "1  Punjab Cricket Association Stadium, Mohali  MR Benson   SL Shastri      NaN  "
            ]
          },
          "metadata": {
            "tags": []
          },
          "execution_count": 30
        }
      ]
    },
    {
      "cell_type": "code",
      "metadata": {
        "id": "JWCxkGvh8_gE",
        "outputId": "6b19f935-24bb-4989-d9b6-99e88baccbd0"
      },
      "source": [
        "matches[pd.isnull(matches['city'])]"
      ],
      "execution_count": null,
      "outputs": [
        {
          "output_type": "execute_result",
          "data": {
            "text/html": [
              "<div>\n",
              "<style scoped>\n",
              "    .dataframe tbody tr th:only-of-type {\n",
              "        vertical-align: middle;\n",
              "    }\n",
              "\n",
              "    .dataframe tbody tr th {\n",
              "        vertical-align: top;\n",
              "    }\n",
              "\n",
              "    .dataframe thead th {\n",
              "        text-align: right;\n",
              "    }\n",
              "</style>\n",
              "<table border=\"1\" class=\"dataframe\">\n",
              "  <thead>\n",
              "    <tr style=\"text-align: right;\">\n",
              "      <th></th>\n",
              "      <th>id</th>\n",
              "      <th>season</th>\n",
              "      <th>city</th>\n",
              "      <th>date</th>\n",
              "      <th>team1</th>\n",
              "      <th>team2</th>\n",
              "      <th>toss_winner</th>\n",
              "      <th>toss_decision</th>\n",
              "      <th>result</th>\n",
              "      <th>dl_applied</th>\n",
              "      <th>winner</th>\n",
              "      <th>win_by_runs</th>\n",
              "      <th>win_by_wickets</th>\n",
              "      <th>player_of_match</th>\n",
              "      <th>venue</th>\n",
              "      <th>umpire1</th>\n",
              "      <th>umpire2</th>\n",
              "      <th>umpire3</th>\n",
              "    </tr>\n",
              "  </thead>\n",
              "  <tbody>\n",
              "    <tr>\n",
              "      <th>402</th>\n",
              "      <td>403</td>\n",
              "      <td>2014</td>\n",
              "      <td>NaN</td>\n",
              "      <td>4/19/2014</td>\n",
              "      <td>1</td>\n",
              "      <td>3</td>\n",
              "      <td>3</td>\n",
              "      <td>field</td>\n",
              "      <td>normal</td>\n",
              "      <td>0</td>\n",
              "      <td>3</td>\n",
              "      <td>0</td>\n",
              "      <td>7</td>\n",
              "      <td>PA Patel</td>\n",
              "      <td>Dubai International Cricket Stadium</td>\n",
              "      <td>Aleem Dar</td>\n",
              "      <td>AK Chaudhary</td>\n",
              "      <td>NaN</td>\n",
              "    </tr>\n",
              "    <tr>\n",
              "      <th>403</th>\n",
              "      <td>404</td>\n",
              "      <td>2014</td>\n",
              "      <td>NaN</td>\n",
              "      <td>4/19/2014</td>\n",
              "      <td>2</td>\n",
              "      <td>7</td>\n",
              "      <td>2</td>\n",
              "      <td>bat</td>\n",
              "      <td>normal</td>\n",
              "      <td>0</td>\n",
              "      <td>7</td>\n",
              "      <td>0</td>\n",
              "      <td>4</td>\n",
              "      <td>JP Duminy</td>\n",
              "      <td>Dubai International Cricket Stadium</td>\n",
              "      <td>Aleem Dar</td>\n",
              "      <td>VA Kulkarni</td>\n",
              "      <td>NaN</td>\n",
              "    </tr>\n",
              "    <tr>\n",
              "      <th>407</th>\n",
              "      <td>408</td>\n",
              "      <td>2014</td>\n",
              "      <td>NaN</td>\n",
              "      <td>4/23/2014</td>\n",
              "      <td>5</td>\n",
              "      <td>6</td>\n",
              "      <td>6</td>\n",
              "      <td>field</td>\n",
              "      <td>normal</td>\n",
              "      <td>0</td>\n",
              "      <td>5</td>\n",
              "      <td>7</td>\n",
              "      <td>0</td>\n",
              "      <td>RA Jadeja</td>\n",
              "      <td>Dubai International Cricket Stadium</td>\n",
              "      <td>HDPK Dharmasena</td>\n",
              "      <td>RK Illingworth</td>\n",
              "      <td>NaN</td>\n",
              "    </tr>\n",
              "    <tr>\n",
              "      <th>409</th>\n",
              "      <td>410</td>\n",
              "      <td>2014</td>\n",
              "      <td>NaN</td>\n",
              "      <td>4/25/2014</td>\n",
              "      <td>10</td>\n",
              "      <td>7</td>\n",
              "      <td>10</td>\n",
              "      <td>bat</td>\n",
              "      <td>normal</td>\n",
              "      <td>0</td>\n",
              "      <td>10</td>\n",
              "      <td>4</td>\n",
              "      <td>0</td>\n",
              "      <td>AJ Finch</td>\n",
              "      <td>Dubai International Cricket Stadium</td>\n",
              "      <td>M Erasmus</td>\n",
              "      <td>S Ravi</td>\n",
              "      <td>NaN</td>\n",
              "    </tr>\n",
              "    <tr>\n",
              "      <th>410</th>\n",
              "      <td>411</td>\n",
              "      <td>2014</td>\n",
              "      <td>NaN</td>\n",
              "      <td>4/25/2014</td>\n",
              "      <td>1</td>\n",
              "      <td>5</td>\n",
              "      <td>1</td>\n",
              "      <td>bat</td>\n",
              "      <td>normal</td>\n",
              "      <td>0</td>\n",
              "      <td>5</td>\n",
              "      <td>0</td>\n",
              "      <td>7</td>\n",
              "      <td>MM Sharma</td>\n",
              "      <td>Dubai International Cricket Stadium</td>\n",
              "      <td>BF Bowden</td>\n",
              "      <td>M Erasmus</td>\n",
              "      <td>NaN</td>\n",
              "    </tr>\n",
              "    <tr>\n",
              "      <th>415</th>\n",
              "      <td>416</td>\n",
              "      <td>2014</td>\n",
              "      <td>NaN</td>\n",
              "      <td>4/28/2014</td>\n",
              "      <td>3</td>\n",
              "      <td>9</td>\n",
              "      <td>9</td>\n",
              "      <td>field</td>\n",
              "      <td>normal</td>\n",
              "      <td>0</td>\n",
              "      <td>9</td>\n",
              "      <td>0</td>\n",
              "      <td>5</td>\n",
              "      <td>Sandeep Sharma</td>\n",
              "      <td>Dubai International Cricket Stadium</td>\n",
              "      <td>BF Bowden</td>\n",
              "      <td>S Ravi</td>\n",
              "      <td>NaN</td>\n",
              "    </tr>\n",
              "    <tr>\n",
              "      <th>417</th>\n",
              "      <td>418</td>\n",
              "      <td>2014</td>\n",
              "      <td>NaN</td>\n",
              "      <td>4/30/2014</td>\n",
              "      <td>10</td>\n",
              "      <td>1</td>\n",
              "      <td>1</td>\n",
              "      <td>field</td>\n",
              "      <td>normal</td>\n",
              "      <td>0</td>\n",
              "      <td>10</td>\n",
              "      <td>15</td>\n",
              "      <td>0</td>\n",
              "      <td>B Kumar</td>\n",
              "      <td>Dubai International Cricket Stadium</td>\n",
              "      <td>HDPK Dharmasena</td>\n",
              "      <td>M Erasmus</td>\n",
              "      <td>NaN</td>\n",
              "    </tr>\n",
              "  </tbody>\n",
              "</table>\n",
              "</div>"
            ],
            "text/plain": [
              "      id  season city       date  team1  team2  toss_winner toss_decision  \\\n",
              "402  403    2014  NaN  4/19/2014      1      3            3         field   \n",
              "403  404    2014  NaN  4/19/2014      2      7            2           bat   \n",
              "407  408    2014  NaN  4/23/2014      5      6            6         field   \n",
              "409  410    2014  NaN  4/25/2014     10      7           10           bat   \n",
              "410  411    2014  NaN  4/25/2014      1      5            1           bat   \n",
              "415  416    2014  NaN  4/28/2014      3      9            9         field   \n",
              "417  418    2014  NaN  4/30/2014     10      1            1         field   \n",
              "\n",
              "     result  dl_applied  winner  win_by_runs  win_by_wickets player_of_match  \\\n",
              "402  normal           0       3            0               7        PA Patel   \n",
              "403  normal           0       7            0               4       JP Duminy   \n",
              "407  normal           0       5            7               0       RA Jadeja   \n",
              "409  normal           0      10            4               0        AJ Finch   \n",
              "410  normal           0       5            0               7       MM Sharma   \n",
              "415  normal           0       9            0               5  Sandeep Sharma   \n",
              "417  normal           0      10           15               0         B Kumar   \n",
              "\n",
              "                                   venue          umpire1         umpire2  \\\n",
              "402  Dubai International Cricket Stadium        Aleem Dar    AK Chaudhary   \n",
              "403  Dubai International Cricket Stadium        Aleem Dar     VA Kulkarni   \n",
              "407  Dubai International Cricket Stadium  HDPK Dharmasena  RK Illingworth   \n",
              "409  Dubai International Cricket Stadium        M Erasmus          S Ravi   \n",
              "410  Dubai International Cricket Stadium        BF Bowden       M Erasmus   \n",
              "415  Dubai International Cricket Stadium        BF Bowden          S Ravi   \n",
              "417  Dubai International Cricket Stadium  HDPK Dharmasena       M Erasmus   \n",
              "\n",
              "     umpire3  \n",
              "402      NaN  \n",
              "403      NaN  \n",
              "407      NaN  \n",
              "409      NaN  \n",
              "410      NaN  \n",
              "415      NaN  \n",
              "417      NaN  "
            ]
          },
          "metadata": {
            "tags": []
          },
          "execution_count": 31
        }
      ]
    },
    {
      "cell_type": "code",
      "metadata": {
        "id": "2hUv94H68_gF",
        "outputId": "d0491459-e86f-41b4-dd5b-a39abf0ca440"
      },
      "source": [
        "matches['city'].fillna('Dubai',inplace=True)\n",
        "matches.describe()\n",
        "matches.info()"
      ],
      "execution_count": null,
      "outputs": [
        {
          "output_type": "stream",
          "text": [
            "<class 'pandas.core.frame.DataFrame'>\n",
            "RangeIndex: 577 entries, 0 to 576\n",
            "Data columns (total 18 columns):\n",
            "id                 577 non-null int64\n",
            "season             577 non-null int64\n",
            "city               577 non-null object\n",
            "date               577 non-null object\n",
            "team1              577 non-null int64\n",
            "team2              577 non-null int64\n",
            "toss_winner        577 non-null int64\n",
            "toss_decision      577 non-null object\n",
            "result             577 non-null object\n",
            "dl_applied         577 non-null int64\n",
            "winner             577 non-null int64\n",
            "win_by_runs        577 non-null int64\n",
            "win_by_wickets     577 non-null int64\n",
            "player_of_match    574 non-null object\n",
            "venue              577 non-null object\n",
            "umpire1            577 non-null object\n",
            "umpire2            577 non-null object\n",
            "umpire3            0 non-null float64\n",
            "dtypes: float64(1), int64(9), object(8)\n",
            "memory usage: 81.2+ KB\n"
          ],
          "name": "stdout"
        }
      ]
    },
    {
      "cell_type": "code",
      "metadata": {
        "id": "QU6FaV0e8_gG",
        "outputId": "1fb31740-a657-4d28-9f3f-91bf4dd3862f"
      },
      "source": [
        "xx=matches.groupby([\"toss_winner\"]).size()\n",
        "print(xx.get_value(1))\n",
        "yy=matches.groupby([\"winner\"]).size()\n",
        "print(yy.get_value(1))"
      ],
      "execution_count": null,
      "outputs": [
        {
          "output_type": "stream",
          "text": [
            "74\n",
            "80\n"
          ],
          "name": "stdout"
        },
        {
          "output_type": "stream",
          "text": [
            "C:\\ProgramData\\Anaconda3\\lib\\site-packages\\ipykernel_launcher.py:4: FutureWarning: get_value is deprecated and will be removed in a future release. Please use .at[] or .iat[] accessors instead\n",
            "  after removing the cwd from sys.path.\n",
            "C:\\ProgramData\\Anaconda3\\lib\\site-packages\\ipykernel_launcher.py:6: FutureWarning: get_value is deprecated and will be removed in a future release. Please use .at[] or .iat[] accessors instead\n",
            "  \n"
          ],
          "name": "stderr"
        }
      ]
    },
    {
      "cell_type": "code",
      "metadata": {
        "id": "gyGOz5XQ8_gG",
        "outputId": "4796d0a7-e9c8-44bf-b6c3-de4e9ee1ed7c"
      },
      "source": [
        "kumar=change['winner']\n",
        "print(kumar['MI']) #key value\n",
        "print(list(kumar.keys())[list(kumar.values()).index(1)])  "
      ],
      "execution_count": null,
      "outputs": [
        {
          "output_type": "stream",
          "text": [
            "1\n",
            "MI\n"
          ],
          "name": "stdout"
        }
      ]
    },
    {
      "cell_type": "code",
      "metadata": {
        "id": "aY-elSpL8_gH",
        "outputId": "831df179-af03-4209-818b-0ed1f4d14b66"
      },
      "source": [
        "matches=matches[['team1','team2','city','toss_decision','toss_winner','venue','winner']]\n",
        "matches.head(2)"
      ],
      "execution_count": null,
      "outputs": [
        {
          "output_type": "execute_result",
          "data": {
            "text/html": [
              "<div>\n",
              "<style scoped>\n",
              "    .dataframe tbody tr th:only-of-type {\n",
              "        vertical-align: middle;\n",
              "    }\n",
              "\n",
              "    .dataframe tbody tr th {\n",
              "        vertical-align: top;\n",
              "    }\n",
              "\n",
              "    .dataframe thead th {\n",
              "        text-align: right;\n",
              "    }\n",
              "</style>\n",
              "<table border=\"1\" class=\"dataframe\">\n",
              "  <thead>\n",
              "    <tr style=\"text-align: right;\">\n",
              "      <th></th>\n",
              "      <th>team1</th>\n",
              "      <th>team2</th>\n",
              "      <th>city</th>\n",
              "      <th>toss_decision</th>\n",
              "      <th>toss_winner</th>\n",
              "      <th>venue</th>\n",
              "      <th>winner</th>\n",
              "    </tr>\n",
              "  </thead>\n",
              "  <tbody>\n",
              "    <tr>\n",
              "      <th>0</th>\n",
              "      <td>2</td>\n",
              "      <td>3</td>\n",
              "      <td>Bangalore</td>\n",
              "      <td>field</td>\n",
              "      <td>3</td>\n",
              "      <td>M Chinnaswamy Stadium</td>\n",
              "      <td>2</td>\n",
              "    </tr>\n",
              "    <tr>\n",
              "      <th>1</th>\n",
              "      <td>5</td>\n",
              "      <td>9</td>\n",
              "      <td>Chandigarh</td>\n",
              "      <td>bat</td>\n",
              "      <td>5</td>\n",
              "      <td>Punjab Cricket Association Stadium, Mohali</td>\n",
              "      <td>5</td>\n",
              "    </tr>\n",
              "  </tbody>\n",
              "</table>\n",
              "</div>"
            ],
            "text/plain": [
              "   team1  team2        city toss_decision  toss_winner  \\\n",
              "0      2      3   Bangalore         field            3   \n",
              "1      5      9  Chandigarh           bat            5   \n",
              "\n",
              "                                        venue  winner  \n",
              "0                       M Chinnaswamy Stadium       2  \n",
              "1  Punjab Cricket Association Stadium, Mohali       5  "
            ]
          },
          "metadata": {
            "tags": []
          },
          "execution_count": 35
        }
      ]
    },
    {
      "cell_type": "code",
      "metadata": {
        "id": "pDX1MRZR8_gI",
        "outputId": "033cffdf-97f0-4d60-c89e-35a1c560c167"
      },
      "source": [
        "deliveries=deliveries[['batting_team','bowling_team','batsman','non_striker','bowler','is_super_over','wide_runs','bye_runs']]\n",
        "deliveries.head(2)"
      ],
      "execution_count": null,
      "outputs": [
        {
          "output_type": "execute_result",
          "data": {
            "text/html": [
              "<div>\n",
              "<style scoped>\n",
              "    .dataframe tbody tr th:only-of-type {\n",
              "        vertical-align: middle;\n",
              "    }\n",
              "\n",
              "    .dataframe tbody tr th {\n",
              "        vertical-align: top;\n",
              "    }\n",
              "\n",
              "    .dataframe thead th {\n",
              "        text-align: right;\n",
              "    }\n",
              "</style>\n",
              "<table border=\"1\" class=\"dataframe\">\n",
              "  <thead>\n",
              "    <tr style=\"text-align: right;\">\n",
              "      <th></th>\n",
              "      <th>batting_team</th>\n",
              "      <th>bowling_team</th>\n",
              "      <th>batsman</th>\n",
              "      <th>non_striker</th>\n",
              "      <th>bowler</th>\n",
              "      <th>is_super_over</th>\n",
              "      <th>wide_runs</th>\n",
              "      <th>bye_runs</th>\n",
              "    </tr>\n",
              "  </thead>\n",
              "  <tbody>\n",
              "    <tr>\n",
              "      <th>0</th>\n",
              "      <td>Sunrisers Hyderabad</td>\n",
              "      <td>Royal Challengers Bangalore</td>\n",
              "      <td>DA Warner</td>\n",
              "      <td>S Dhawan</td>\n",
              "      <td>TS Mills</td>\n",
              "      <td>0</td>\n",
              "      <td>0</td>\n",
              "      <td>0</td>\n",
              "    </tr>\n",
              "    <tr>\n",
              "      <th>1</th>\n",
              "      <td>Sunrisers Hyderabad</td>\n",
              "      <td>Royal Challengers Bangalore</td>\n",
              "      <td>DA Warner</td>\n",
              "      <td>S Dhawan</td>\n",
              "      <td>TS Mills</td>\n",
              "      <td>0</td>\n",
              "      <td>0</td>\n",
              "      <td>0</td>\n",
              "    </tr>\n",
              "  </tbody>\n",
              "</table>\n",
              "</div>"
            ],
            "text/plain": [
              "          batting_team                 bowling_team    batsman non_striker  \\\n",
              "0  Sunrisers Hyderabad  Royal Challengers Bangalore  DA Warner    S Dhawan   \n",
              "1  Sunrisers Hyderabad  Royal Challengers Bangalore  DA Warner    S Dhawan   \n",
              "\n",
              "     bowler  is_super_over  wide_runs  bye_runs  \n",
              "0  TS Mills              0          0         0  \n",
              "1  TS Mills              0          0         0  "
            ]
          },
          "metadata": {
            "tags": []
          },
          "execution_count": 36
        }
      ]
    },
    {
      "cell_type": "code",
      "metadata": {
        "id": "soJWjF828_gI",
        "outputId": "8940d455-c357-4b36-dd3b-0fc51b6a101c"
      },
      "source": [
        "kk= pd.DataFrame(matches)\n",
        "kk.describe()"
      ],
      "execution_count": null,
      "outputs": [
        {
          "output_type": "execute_result",
          "data": {
            "text/html": [
              "<div>\n",
              "<style scoped>\n",
              "    .dataframe tbody tr th:only-of-type {\n",
              "        vertical-align: middle;\n",
              "    }\n",
              "\n",
              "    .dataframe tbody tr th {\n",
              "        vertical-align: top;\n",
              "    }\n",
              "\n",
              "    .dataframe thead th {\n",
              "        text-align: right;\n",
              "    }\n",
              "</style>\n",
              "<table border=\"1\" class=\"dataframe\">\n",
              "  <thead>\n",
              "    <tr style=\"text-align: right;\">\n",
              "      <th></th>\n",
              "      <th>team1</th>\n",
              "      <th>team2</th>\n",
              "      <th>toss_winner</th>\n",
              "      <th>winner</th>\n",
              "    </tr>\n",
              "  </thead>\n",
              "  <tbody>\n",
              "    <tr>\n",
              "      <th>count</th>\n",
              "      <td>577.000000</td>\n",
              "      <td>577.000000</td>\n",
              "      <td>577.000000</td>\n",
              "      <td>577.000000</td>\n",
              "    </tr>\n",
              "    <tr>\n",
              "      <th>mean</th>\n",
              "      <td>5.417678</td>\n",
              "      <td>5.481802</td>\n",
              "      <td>5.365685</td>\n",
              "      <td>5.218371</td>\n",
              "    </tr>\n",
              "    <tr>\n",
              "      <th>std</th>\n",
              "      <td>3.281985</td>\n",
              "      <td>3.291946</td>\n",
              "      <td>3.255295</td>\n",
              "      <td>3.196267</td>\n",
              "    </tr>\n",
              "    <tr>\n",
              "      <th>min</th>\n",
              "      <td>1.000000</td>\n",
              "      <td>1.000000</td>\n",
              "      <td>1.000000</td>\n",
              "      <td>1.000000</td>\n",
              "    </tr>\n",
              "    <tr>\n",
              "      <th>25%</th>\n",
              "      <td>3.000000</td>\n",
              "      <td>3.000000</td>\n",
              "      <td>3.000000</td>\n",
              "      <td>2.000000</td>\n",
              "    </tr>\n",
              "    <tr>\n",
              "      <th>50%</th>\n",
              "      <td>5.000000</td>\n",
              "      <td>5.000000</td>\n",
              "      <td>5.000000</td>\n",
              "      <td>5.000000</td>\n",
              "    </tr>\n",
              "    <tr>\n",
              "      <th>75%</th>\n",
              "      <td>8.000000</td>\n",
              "      <td>7.000000</td>\n",
              "      <td>7.000000</td>\n",
              "      <td>7.000000</td>\n",
              "    </tr>\n",
              "    <tr>\n",
              "      <th>max</th>\n",
              "      <td>13.000000</td>\n",
              "      <td>13.000000</td>\n",
              "      <td>13.000000</td>\n",
              "      <td>14.000000</td>\n",
              "    </tr>\n",
              "  </tbody>\n",
              "</table>\n",
              "</div>"
            ],
            "text/plain": [
              "            team1       team2  toss_winner      winner\n",
              "count  577.000000  577.000000   577.000000  577.000000\n",
              "mean     5.417678    5.481802     5.365685    5.218371\n",
              "std      3.281985    3.291946     3.255295    3.196267\n",
              "min      1.000000    1.000000     1.000000    1.000000\n",
              "25%      3.000000    3.000000     3.000000    2.000000\n",
              "50%      5.000000    5.000000     5.000000    5.000000\n",
              "75%      8.000000    7.000000     7.000000    7.000000\n",
              "max     13.000000   13.000000    13.000000   14.000000"
            ]
          },
          "metadata": {
            "tags": []
          },
          "execution_count": 37
        }
      ]
    },
    {
      "cell_type": "code",
      "metadata": {
        "id": "HmIh3SQp8_gJ",
        "outputId": "23f8f4f4-5142-4700-a552-dee481bc5520"
      },
      "source": [
        "kuk=pd.DataFrame(deliveries)\n",
        "kuk.describe()"
      ],
      "execution_count": null,
      "outputs": [
        {
          "output_type": "execute_result",
          "data": {
            "text/html": [
              "<div>\n",
              "<style scoped>\n",
              "    .dataframe tbody tr th:only-of-type {\n",
              "        vertical-align: middle;\n",
              "    }\n",
              "\n",
              "    .dataframe tbody tr th {\n",
              "        vertical-align: top;\n",
              "    }\n",
              "\n",
              "    .dataframe thead th {\n",
              "        text-align: right;\n",
              "    }\n",
              "</style>\n",
              "<table border=\"1\" class=\"dataframe\">\n",
              "  <thead>\n",
              "    <tr style=\"text-align: right;\">\n",
              "      <th></th>\n",
              "      <th>is_super_over</th>\n",
              "      <th>wide_runs</th>\n",
              "      <th>bye_runs</th>\n",
              "    </tr>\n",
              "  </thead>\n",
              "  <tbody>\n",
              "    <tr>\n",
              "      <th>count</th>\n",
              "      <td>150460.000000</td>\n",
              "      <td>150460.000000</td>\n",
              "      <td>150460.000000</td>\n",
              "    </tr>\n",
              "    <tr>\n",
              "      <th>mean</th>\n",
              "      <td>0.000538</td>\n",
              "      <td>0.037498</td>\n",
              "      <td>0.004885</td>\n",
              "    </tr>\n",
              "    <tr>\n",
              "      <th>std</th>\n",
              "      <td>0.023196</td>\n",
              "      <td>0.257398</td>\n",
              "      <td>0.114234</td>\n",
              "    </tr>\n",
              "    <tr>\n",
              "      <th>min</th>\n",
              "      <td>0.000000</td>\n",
              "      <td>0.000000</td>\n",
              "      <td>0.000000</td>\n",
              "    </tr>\n",
              "    <tr>\n",
              "      <th>25%</th>\n",
              "      <td>0.000000</td>\n",
              "      <td>0.000000</td>\n",
              "      <td>0.000000</td>\n",
              "    </tr>\n",
              "    <tr>\n",
              "      <th>50%</th>\n",
              "      <td>0.000000</td>\n",
              "      <td>0.000000</td>\n",
              "      <td>0.000000</td>\n",
              "    </tr>\n",
              "    <tr>\n",
              "      <th>75%</th>\n",
              "      <td>0.000000</td>\n",
              "      <td>0.000000</td>\n",
              "      <td>0.000000</td>\n",
              "    </tr>\n",
              "    <tr>\n",
              "      <th>max</th>\n",
              "      <td>1.000000</td>\n",
              "      <td>5.000000</td>\n",
              "      <td>4.000000</td>\n",
              "    </tr>\n",
              "  </tbody>\n",
              "</table>\n",
              "</div>"
            ],
            "text/plain": [
              "       is_super_over      wide_runs       bye_runs\n",
              "count  150460.000000  150460.000000  150460.000000\n",
              "mean        0.000538       0.037498       0.004885\n",
              "std         0.023196       0.257398       0.114234\n",
              "min         0.000000       0.000000       0.000000\n",
              "25%         0.000000       0.000000       0.000000\n",
              "50%         0.000000       0.000000       0.000000\n",
              "75%         0.000000       0.000000       0.000000\n",
              "max         1.000000       5.000000       4.000000"
            ]
          },
          "metadata": {
            "tags": []
          },
          "execution_count": 38
        }
      ]
    },
    {
      "cell_type": "code",
      "metadata": {
        "id": "bRnbAv9H8_gK",
        "outputId": "6b651c4d-e679-47af-e54b-7bea3af1a891"
      },
      "source": [
        "kk[\"city\"].unique()"
      ],
      "execution_count": null,
      "outputs": [
        {
          "output_type": "execute_result",
          "data": {
            "text/plain": [
              "array(['Bangalore', 'Chandigarh', 'Delhi', 'Mumbai', 'Kolkata', 'Jaipur',\n",
              "       'Hyderabad', 'Chennai', 'Cape Town', 'Port Elizabeth', 'Durban',\n",
              "       'Centurion', 'East London', 'Johannesburg', 'Kimberley',\n",
              "       'Bloemfontein', 'Ahmedabad', 'Cuttack', 'Nagpur', 'Dharamsala',\n",
              "       'Kochi', 'Indore', 'Visakhapatnam', 'Pune', 'Raipur', 'Ranchi',\n",
              "       'Abu Dhabi', 'Sharjah', 'Dubai', 'Rajkot', 'Kanpur'], dtype=object)"
            ]
          },
          "metadata": {
            "tags": []
          },
          "execution_count": 39
        }
      ]
    },
    {
      "cell_type": "code",
      "metadata": {
        "id": "PSIFKH5D8_gK",
        "outputId": "ba125837-914a-4028-9951-032076d37dd4"
      },
      "source": [
        "kk[\"venue\"].unique()"
      ],
      "execution_count": null,
      "outputs": [
        {
          "output_type": "execute_result",
          "data": {
            "text/plain": [
              "array(['M Chinnaswamy Stadium',\n",
              "       'Punjab Cricket Association Stadium, Mohali', 'Feroz Shah Kotla',\n",
              "       'Wankhede Stadium', 'Eden Gardens', 'Sawai Mansingh Stadium',\n",
              "       'Rajiv Gandhi International Stadium, Uppal',\n",
              "       'MA Chidambaram Stadium, Chepauk', 'Dr DY Patil Sports Academy',\n",
              "       'Newlands', \"St George's Park\", 'Kingsmead', 'SuperSport Park',\n",
              "       'Buffalo Park', 'New Wanderers Stadium', 'De Beers Diamond Oval',\n",
              "       'OUTsurance Oval', 'Brabourne Stadium',\n",
              "       'Sardar Patel Stadium, Motera', 'Barabati Stadium',\n",
              "       'Vidarbha Cricket Association Stadium, Jamtha',\n",
              "       'Himachal Pradesh Cricket Association Stadium', 'Nehru Stadium',\n",
              "       'Holkar Cricket Stadium',\n",
              "       'Dr. Y.S. Rajasekhara Reddy ACA-VDCA Cricket Stadium',\n",
              "       'Subrata Roy Sahara Stadium',\n",
              "       'Shaheed Veer Narayan Singh International Stadium',\n",
              "       'JSCA International Stadium Complex', 'Sheikh Zayed Stadium',\n",
              "       'Sharjah Cricket Stadium', 'Dubai International Cricket Stadium',\n",
              "       'Maharashtra Cricket Association Stadium',\n",
              "       'Punjab Cricket Association IS Bindra Stadium, Mohali',\n",
              "       'Saurashtra Cricket Association Stadium', 'Green Park'],\n",
              "      dtype=object)"
            ]
          },
          "metadata": {
            "tags": []
          },
          "execution_count": 40
        }
      ]
    },
    {
      "cell_type": "code",
      "metadata": {
        "id": "3FuULTps8_gL",
        "outputId": "be8eee58-090a-4b43-8830-ecadfd08f837"
      },
      "source": [
        "kuk[\"batsman\"].unique()"
      ],
      "execution_count": null,
      "outputs": [
        {
          "output_type": "execute_result",
          "data": {
            "text/plain": [
              "array(['DA Warner', 'S Dhawan', 'MC Henriques', 'Yuvraj Singh',\n",
              "       'DJ Hooda', 'BCJ Cutting', 'CH Gayle', 'Mandeep Singh', 'TM Head',\n",
              "       'KM Jadhav', 'SR Watson', 'Sachin Baby', 'STR Binny', 'S Aravind',\n",
              "       'YS Chahal', 'TS Mills', 'A Choudhary', 'PA Patel', 'JC Buttler',\n",
              "       'RG Sharma', 'N Rana', 'AT Rayudu', 'KH Pandya', 'KA Pollard',\n",
              "       'HH Pandya', 'TG Southee', 'AM Rahane', 'MA Agarwal', 'SPD Smith',\n",
              "       'BA Stokes', 'MS Dhoni', 'JJ Roy', 'BB McCullum', 'SK Raina',\n",
              "       'AJ Finch', 'KD Karthik', 'G Gambhir', 'CA Lynn', 'MK Tiwary',\n",
              "       'DT Christian', 'HM Amla', 'M Vohra', 'WP Saha', 'AR Patel',\n",
              "       'GJ Maxwell', 'DA Miller', 'Vishnu Vinod', 'Iqbal Abdulla',\n",
              "       'P Negi', 'AP Tare', 'SW Billings', 'KK Nair', 'SV Samson',\n",
              "       'RR Pant', 'CH Morris', 'CR Brathwaite', 'PJ Cummins', 'A Mishra',\n",
              "       'S Nadeem', 'Z Khan', 'DR Smith', 'DS Kulkarni', 'P Kumar',\n",
              "       'Basil Thampi', 'RV Uthappa', 'MK Pandey', 'YK Pathan', 'SA Yadav',\n",
              "       'CR Woakes', 'SP Narine', 'Harbhajan Singh', 'AB de Villiers',\n",
              "       'CJ Anderson', 'F du Plessis', 'RA Tripathi', 'R Bhatia',\n",
              "       'DL Chahar', 'A Zampa', 'AB Dinda', 'Imran Tahir', 'NV Ojha',\n",
              "       'V Shankar', 'Rashid Khan', 'B Kumar', 'MP Stoinis', 'MM Sharma',\n",
              "       'VR Aaron', 'V Kohli', 'MJ McClenaghan', 'Ankit Sharma',\n",
              "       'SN Thakur', 'RD Chahar', 'LH Ferguson', 'C de Grandhomme',\n",
              "       'Bipul Sharma', 'SS Iyer', 'EJG Morgan', 'KC Cariappa',\n",
              "       'Sandeep Sharma', 'Ishan Kishan', 'JD Unadkat', 'AF Milne',\n",
              "       'S Badree', 'AD Mathews', 'Mohammed Shami', 'Mohammad Nabi',\n",
              "       'I Sharma', 'RA Jadeja', 'AJ Tye', 'KS Williamson', 'SE Marsh',\n",
              "       'Shakib Al Hasan', 'JP Faulkner', 'MG Johnson', 'K Rabada',\n",
              "       'AD Nath', 'NM Coulter-Nile', 'Kuldeep Yadav', 'UT Yadav',\n",
              "       'Washington Sundar', 'KV Sharma', 'DM Bravo', 'AR Bawne',\n",
              "       'SP Jackson', 'MJ Guptill', 'Anureet Singh', 'IK Pathan',\n",
              "       'Ankit Soni', 'JJ Bumrah', 'SL Malinga', 'PJ Sangwan', 'S Kaul',\n",
              "       'LMP Simmons', 'MN Samuels', 'Swapnil Singh', 'R Tewatia',\n",
              "       'MM Patel', 'SS Tiwary', 'TA Boult', 'CJ Jordan', 'IR Jaggi',\n",
              "       'PP Chawla', 'AS Rajpoot', 'SC Ganguly', 'RT Ponting', 'DJ Hussey',\n",
              "       'Mohammad Hafeez', 'R Dravid', 'W Jaffer', 'JH Kallis', 'CL White',\n",
              "       'MV Boucher', 'B Akhil', 'AA Noffke', 'SB Joshi', 'ML Hayden',\n",
              "       'MEK Hussey', 'JDP Oram', 'S Badrinath', 'K Goel', 'JR Hopes',\n",
              "       'KC Sangakkara', 'SM Katich', 'T Kohli', 'M Kaif', 'DS Lehmann',\n",
              "       'M Rawat', 'D Salunkhe', 'SK Warne', 'SK Trivedi', 'V Sehwag',\n",
              "       'L Ronchi', 'ST Jayasuriya', 'DJ Thornely', 'PR Shah', 'AM Nayar',\n",
              "       'SM Pollock', 'S Chanderpaul', 'LRPL Taylor', 'AC Gilchrist',\n",
              "       'Y Venugopal Rao', 'VVS Laxman', 'A Symonds', 'SB Styris',\n",
              "       'AS Yadav', 'SB Bangar', 'WPUJC Vaas', 'RP Singh', 'LR Shukla',\n",
              "       'DPMD Jayawardene', 'S Sohal', 'B Lee', 'WA Mota', 'Kamran Akmal',\n",
              "       'Shahid Afridi', 'DJ Bravo', 'MA Khote', 'A Nehra', 'GC Smith',\n",
              "       'Pankaj Singh', 'RR Sarwan', 'S Sreesanth', 'VRV Singh',\n",
              "       'R Vinay Kumar', 'AB Agarkar', 'M Kartik', 'Shoaib Malik',\n",
              "       'MF Maharoof', 'VY Mahesh', 'TM Srivastava', 'B Chipli',\n",
              "       'DW Steyn', 'DB Das', 'HH Gibbs', 'DNT Zoysa', 'D Kalyankrishna',\n",
              "       'SA Asnodkar', 'Sohail Tanvir', 'Salman Butt', 'BJ Hodge',\n",
              "       'Umar Gul', 'SP Fleming', 'S Vidyut', 'JA Morkel', 'LPC Silva',\n",
              "       'DB Ravi Teja', 'Misbah-ul-Haq', 'YV Takawale', 'RR Raje',\n",
              "       'Mohammad Asif', 'GD McGrath', 'Joginder Sharma', 'MS Gony',\n",
              "       'M Muralitharan', 'M Ntini', 'DT Patil', 'A Kumble', 'S Anirudha',\n",
              "       'CK Kapugedera', 'A Chopra', 'T Taibu', 'J Arunkumar', 'PP Ojha',\n",
              "       'SP Goswami', 'SR Tendulkar', 'U Kaul', 'TM Dilshan',\n",
              "       'AD Mascarenhas', 'Niraj Patel', 'LA Pomersbach', 'Younis Khan',\n",
              "       'PM Sarvesh Kumar', 'DP Vijaykumar', 'Shoaib Akhtar',\n",
              "       'Abdur Razzak', 'H Das', 'SD Chitnis', 'CRD Fernando',\n",
              "       'VS Yeligati', 'L Balaji', 'A Mukund', 'RR Powar', 'JP Duminy',\n",
              "       'A Flintoff', 'T Thushara', 'JD Ryder', 'KP Pietersen',\n",
              "       'T Henderson', 'Kamran Khan', 'RS Bopara', 'R Bishnoi',\n",
              "       'FH Edwards', 'PC Valthaty', 'RJ Quiney', 'AS Raut',\n",
              "       'Yashpal Singh', 'M Manhas', 'AA Bilakhia', 'AN Ghosh',\n",
              "       'BAW Mendis', 'DL Vettori', 'MN van Wyk', 'RE van der Merwe',\n",
              "       'TL Suman', 'Shoaib Ahmed', 'GR Napier', 'KP Appanna',\n",
              "       'LA Carseldine', 'SM Harwood', 'M Vijay', 'SB Jakati', 'RJ Harris',\n",
              "       'D du Preez', 'M Morkel', 'J Botha', 'C Nanda', 'Mashrafe Mortaza',\n",
              "       'A Singh', 'GJ Bailey', 'AB McDonald', 'Y Nagar', 'SS Shaikh',\n",
              "       'R Ashwin', 'Mohammad Ashraful', 'CA Pujara', 'OA Shah',\n",
              "       'Anirudh Singh', 'Jaskaran Singh', 'R Sathish', 'R McLaren',\n",
              "       'AA Jhunjhunwala', 'P Dogra', 'A Uniyal', 'MS Bisla', 'YA Abdulla',\n",
              "       'JM Kemp', 'S Tyagi', 'RS Gavaskar', 'SE Bond', 'S Ladda',\n",
              "       'DP Nannes', 'MJ Lumb', 'DR Martyn', 'S Narwal', 'AB Barath',\n",
              "       'FY Fazal', 'AC Voges', 'MD Mishra', 'J Theron', 'SJ Srivastava',\n",
              "       'R Sharma', 'SW Tait', 'KB Arun Karthik', 'KAJ Roach',\n",
              "       'PD Collingwood', 'CK Langeveldt', 'VS Malik', 'A Mithun',\n",
              "       'AP Dole', 'AN Ahmed', 'RS Sodhi', 'DE Bollinger', 'S Sriram',\n",
              "       'B Sumanth', 'C Madan', 'AG Paunikar', 'MR Marsh', 'Harmeet Singh',\n",
              "       'RV Gomez', 'AUK Pathan', 'UBT Chand', 'DJ Jacobs', 'Sunny Singh',\n",
              "       'NJ Rimmington', 'AL Menaria', 'WD Parnell', 'JJ van der Wath',\n",
              "       'R Ninan', 'MS Wade', 'TD Paine', 'SB Wagh', 'AC Thomas',\n",
              "       'JEC Franklin', 'DH Yagnik', 'S Randiv', 'BJ Haddin',\n",
              "       'NLTC Perera', 'NL McCullum', 'JE Taylor', 'J Syed Mohammad',\n",
              "       'RN ten Doeschate', 'TR Birt', 'AG Murtaza', 'Harpreet Singh',\n",
              "       'M Klinger', 'AC Blizzard', 'I Malhotra', 'L Ablish', 'CA Ingram',\n",
              "       'P Parameswaran', 'CJ Ferguson', 'AA Chavan', 'ND Doshi',\n",
              "       'Y Gnaneswara Rao', 'S Rana', 'BA Bhatt', 'RE Levi', 'KK Cooper',\n",
              "       'HV Patel', 'DAJ Bracewell', 'DJ Harris', 'GB Hogg', 'RR Bhatkal',\n",
              "       'CJ McKay', 'N Saini', 'Azhar Mahmood', 'RJ Peterson',\n",
              "       'KMDN Kulasekara', 'A Ashish Reddy', 'V Pratap Singh',\n",
              "       'BB Samantray', 'MJ Clarke', 'Gurkeerat Singh', 'AP Majumdar',\n",
              "       'PA Reddy', 'K Upadhyay', 'P Awana', 'AD Russell', 'A Chandila',\n",
              "       'Sunny Gupta', 'MC Juneja', 'GH Vihari', 'MDKJ Perera', 'R Shukla',\n",
              "       'B Laughlin', 'BMAJ Mendis', 'R Rampaul', 'SMSM Senanayake',\n",
              "       'BJ Rohrer', 'KL Rahul', 'Q de Kock', 'R Dhawan', 'LJ Wright',\n",
              "       'IC Pandey', 'CM Gautam', 'X Thalaivan Sargunam', 'DJG Sammy',\n",
              "       'KW Richardson', 'UA Birla', 'Parvez Rasool', 'PV Tambe',\n",
              "       'NJ Maddinson', 'JDS Neesham', 'MA Starc', 'BR Dunk', 'RR Rossouw',\n",
              "       'Shivam Sharma', 'VH Zol', 'BE Hendricks', 'S Gopal', 'M de Lange',\n",
              "       'JO Holder', 'Karanveer Singh', 'SA Abbott', 'J Suchith',\n",
              "       'RG More', 'D Wiese', 'SN Khan', 'DJ Muthuswami', 'C Munro',\n",
              "       'P Sahu', 'KJ Abbott', 'M Ashwin', 'NS Naik', 'PSP Handscomb',\n",
              "       'J Yadav', 'UT Khawaja', 'F Behardien', 'BB Sran', 'S Kaushik',\n",
              "       'ER Dwivedi'], dtype=object)"
            ]
          },
          "metadata": {
            "tags": []
          },
          "execution_count": 41
        }
      ]
    },
    {
      "cell_type": "code",
      "metadata": {
        "id": "7q4JF-Ix8_gL",
        "outputId": "6dde4fbc-9c4b-47b9-c1d1-e4ffb9083a6b"
      },
      "source": [
        "kuk[\"bowler\"].unique()"
      ],
      "execution_count": null,
      "outputs": [
        {
          "output_type": "execute_result",
          "data": {
            "text/plain": [
              "array(['TS Mills', 'A Choudhary', 'YS Chahal', 'S Aravind', 'SR Watson',\n",
              "       'TM Head', 'STR Binny', 'A Nehra', 'B Kumar', 'BCJ Cutting',\n",
              "       'Rashid Khan', 'DJ Hooda', 'MC Henriques', 'Bipul Sharma',\n",
              "       'AB Dinda', 'DL Chahar', 'BA Stokes', 'Imran Tahir', 'A Zampa',\n",
              "       'R Bhatia', 'TG Southee', 'HH Pandya', 'MJ McClenaghan',\n",
              "       'JJ Bumrah', 'KH Pandya', 'KA Pollard', 'TA Boult', 'PP Chawla',\n",
              "       'SP Narine', 'CR Woakes', 'Kuldeep Yadav', 'YK Pathan', 'P Kumar',\n",
              "       'DS Kulkarni', 'MS Gony', 'S Kaushik', 'DR Smith', 'SB Jakati',\n",
              "       'Sandeep Sharma', 'MM Sharma', 'AR Patel', 'T Natarajan',\n",
              "       'MP Stoinis', 'Swapnil Singh', 'DT Christian', 'RD Chahar',\n",
              "       'Z Khan', 'CH Morris', 'PJ Cummins', 'S Nadeem', 'A Mishra',\n",
              "       'CR Brathwaite', 'B Stanlake', 'Iqbal Abdulla', 'P Negi',\n",
              "       'SK Raina', 'Tejas Baroka', 'Basil Thampi', 'SL Malinga',\n",
              "       'Harbhajan Singh', 'AS Rajpoot', 'VR Aaron', 'CJ Anderson',\n",
              "       'Mustafizur Rahman', 'UT Yadav', 'C de Grandhomme', 'I Sharma',\n",
              "       'GJ Maxwell', 'S Badree', 'AJ Tye', 'RA Jadeja', 'Ankit Sharma',\n",
              "       'LH Ferguson', 'SN Thakur', 'KC Cariappa', 'MM Patel', 'AF Milne',\n",
              "       'JD Unadkat', 'NM Coulter-Nile', 'Mohammed Shami', 'AD Mathews',\n",
              "       'BB Sran', 'S Kaul', 'Mohammad Nabi', 'J Yadav', 'Mohammed Siraj',\n",
              "       'Yuvraj Singh', 'JP Faulkner', 'Shakib Al Hasan', 'K Rabada',\n",
              "       'MG Johnson', 'Washington Sundar', 'SS Agarwal', 'NB Singh',\n",
              "       'KV Sharma', 'RA Tripathi', 'Ankit Soni', 'Anureet Singh',\n",
              "       'IK Pathan', 'PJ Sangwan', 'MN Samuels', 'MJ Henry', 'R Tewatia',\n",
              "       'R Vinay Kumar', 'Avesh Khan', 'HV Patel', 'CJ Jordan',\n",
              "       'AA Noffke', 'JH Kallis', 'SB Joshi', 'CL White', 'AB Agarkar',\n",
              "       'SC Ganguly', 'LR Shukla', 'B Lee', 'S Sreesanth', 'JR Hopes',\n",
              "       'K Goel', 'WA Mota', 'JDP Oram', 'M Muralitharan', 'P Amarnath',\n",
              "       'Joginder Sharma', 'GD McGrath', 'B Geeves', 'MF Maharoof',\n",
              "       'DL Vettori', 'SK Trivedi', 'SK Warne', 'D Salunkhe', 'B Akhil',\n",
              "       'SM Pollock', 'ST Jayasuriya', 'AM Nayar', 'M Kartik',\n",
              "       'Mohammad Hafeez', 'DJ Hussey', 'WPUJC Vaas', 'RP Singh',\n",
              "       'SB Styris', 'SB Bangar', 'A Symonds', 'PP Ojha', 'Pankaj Singh',\n",
              "       'Mohammad Asif', 'VY Mahesh', 'Shahid Afridi', 'DJ Bravo',\n",
              "       'VS Yeligati', 'MA Khote', 'D Kalyankrishna', 'VRV Singh',\n",
              "       'Sohail Tanvir', 'A Kumble', 'DNT Zoysa', 'SD Chitnis',\n",
              "       'Shoaib Malik', 'DW Steyn', 'JA Morkel', 'CRD Fernando', 'V Kohli',\n",
              "       'V Sehwag', 'Gagandeep Singh', 'Y Venugopal Rao', 'Umar Gul',\n",
              "       'M Ntini', 'DP Vijaykumar', 'DB Ravi Teja', 'LPC Silva',\n",
              "       'DJ Thornely', 'RR Raje', 'S Vidyut', 'L Balaji', 'CK Kapugedera',\n",
              "       'AD Mascarenhas', 'Shoaib Akhtar', 'RR Powar', 'PM Sarvesh Kumar',\n",
              "       'Abdur Razzak', 'TM Dilshan', 'RG Sharma', 'A Nel', 'BAW Mendis',\n",
              "       'T Thushara', 'A Flintoff', 'Kamran Khan', 'T Henderson',\n",
              "       'JD Ryder', 'DP Nannes', 'AM Salvi', 'YA Abdulla', 'VS Malik',\n",
              "       'FH Edwards', 'Harmeet Singh', 'CH Gayle', 'KP Pietersen',\n",
              "       'LRPL Taylor', 'RS Bopara', 'MK Tiwary', 'RR Bose', 'KP Appanna',\n",
              "       'Shoaib Ahmed', 'BJ Hodge', 'SR Tendulkar', 'RE van der Merwe',\n",
              "       'JP Duminy', 'S Tyagi', 'GR Napier', 'SM Harwood', 'AS Raut',\n",
              "       'D du Preez', 'RJ Harris', 'TL Suman', 'A Singh', 'M Morkel',\n",
              "       'LA Carseldine', 'A Mithun', 'C Nanda', 'SS Sarkar', 'AM Rahane',\n",
              "       'J Botha', 'Mashrafe Mortaza', 'AB McDonald', 'Y Nagar',\n",
              "       'CK Langeveldt', 'R Ashwin', 'RA Shaikh', 'Jaskaran Singh',\n",
              "       'SW Tait', 'A Uniyal', 'AA Jhunjhunwala', 'R McLaren',\n",
              "       'AG Murtaza', 'R Sathish', 'RS Gavaskar', 'JM Kemp', 'S Ladda',\n",
              "       'SE Bond', 'S Narwal', 'SJ Srivastava', 'AC Voges', 'R Sharma',\n",
              "       'J Theron', 'NLTC Perera', 'KAJ Roach', 'PD Collingwood',\n",
              "       'C Ganapathy', 'MB Parmar', 'SB Wagh', 'DE Bollinger', 'AP Dole',\n",
              "       'AN Ahmed', 'FY Fazal', 'MR Marsh', 'L Ablish', 'S Sriram',\n",
              "       'AJ Finch', 'ND Doshi', 'S Randiv', 'AL Menaria', 'AUK Pathan',\n",
              "       'RV Gomez', 'JEC Franklin', 'AC Thomas', 'WD Parnell', 'M Manhas',\n",
              "       'NJ Rimmington', 'RN ten Doeschate', 'BA Bhatt', 'JJ van der Wath',\n",
              "       'R Ninan', 'PC Valthaty', 'S Dhawan', 'J Syed Mohammad',\n",
              "       'NL McCullum', 'JE Taylor', 'KMDN Kulasekara', 'P Parameswaran',\n",
              "       'I Malhotra', 'B Chipli', 'AA Kazi', 'Anand Rajan', 'P Prasanth',\n",
              "       'Y Gnaneswara Rao', 'AA Chavan', 'S Rana', 'SS Mundhe', 'RW Price',\n",
              "       'M de Lange', 'KK Cooper', 'DAJ Bracewell', 'DJ Harris',\n",
              "       'TP Sudhindra', 'F du Plessis', 'GB Hogg', 'RR Bhatkal', 'P Awana',\n",
              "       'V Pratap Singh', 'CJ McKay', 'AD Russell', 'A Ashish Reddy',\n",
              "       'Azhar Mahmood', 'A Chandila', 'LJ Wright', 'RJ Peterson',\n",
              "       'R Shukla', 'MJ Clarke', 'BW Hilfenhaus', 'SPD Smith',\n",
              "       'K Upadhyay', 'Sunny Gupta', 'B Laughlin', 'GH Vihari',\n",
              "       'BMAJ Mendis', 'Harmeet Singh (2)', 'R Dhawan', 'R Rampaul',\n",
              "       'SMSM Senanayake', 'JO Holder', 'IC Pandey', 'DJG Sammy',\n",
              "       'KW Richardson', 'P Suyal', 'PV Tambe', 'BJ Rohrer',\n",
              "       'Parvez Rasool', 'MG Neser', 'AC Gilchrist', 'MA Starc',\n",
              "       'JDS Neesham', 'M Vijay', 'SA Yadav', 'Shivam Sharma', 'V Shankar',\n",
              "       'LMP Simmons', 'K Santokie', 'S Gopal', 'BE Hendricks',\n",
              "       'JW Hastings', 'Karanveer Singh', 'DJ Muthuswami', 'SA Abbott',\n",
              "       'J Suchith', 'RG More', 'D Wiese', 'GS Sandhu', 'Gurkeerat Singh',\n",
              "       'M Ashwin', 'C Munro', 'P Sahu', 'KJ Abbott', 'T Shamsi',\n",
              "       'SM Boland', 'Sachin Baby', 'N Rana', 'KS Williamson'],\n",
              "      dtype=object)"
            ]
          },
          "metadata": {
            "tags": []
          },
          "execution_count": 42
        }
      ]
    },
    {
      "cell_type": "code",
      "metadata": {
        "id": "b7Gj1pSg8_gM",
        "outputId": "4099e19d-7606-41ad-957b-4a7d5cd678b5"
      },
      "source": [
        "kuk[\"batting_team\"].unique()"
      ],
      "execution_count": null,
      "outputs": [
        {
          "output_type": "execute_result",
          "data": {
            "text/plain": [
              "array(['Sunrisers Hyderabad', 'Royal Challengers Bangalore',\n",
              "       'Mumbai Indians', 'Rising Pune Supergiant', 'Gujarat Lions',\n",
              "       'Kolkata Knight Riders', 'Kings XI Punjab', 'Delhi Daredevils',\n",
              "       'Chennai Super Kings', 'Rajasthan Royals', 'Deccan Chargers',\n",
              "       'Kochi Tuskers Kerala', 'Pune Warriors', 'Rising Pune Supergiants'],\n",
              "      dtype=object)"
            ]
          },
          "metadata": {
            "tags": []
          },
          "execution_count": 43
        }
      ]
    },
    {
      "cell_type": "code",
      "metadata": {
        "id": "yuxI1pqL8_gN",
        "outputId": "7a12daee-430f-4968-bd74-386db878e9d0"
      },
      "source": [
        "kuk[\"bowling_team\"].unique()"
      ],
      "execution_count": null,
      "outputs": [
        {
          "output_type": "execute_result",
          "data": {
            "text/plain": [
              "array(['Royal Challengers Bangalore', 'Sunrisers Hyderabad',\n",
              "       'Rising Pune Supergiant', 'Mumbai Indians',\n",
              "       'Kolkata Knight Riders', 'Gujarat Lions', 'Kings XI Punjab',\n",
              "       'Delhi Daredevils', 'Chennai Super Kings', 'Rajasthan Royals',\n",
              "       'Deccan Chargers', 'Kochi Tuskers Kerala', 'Pune Warriors',\n",
              "       'Rising Pune Supergiants'], dtype=object)"
            ]
          },
          "metadata": {
            "tags": []
          },
          "execution_count": 44
        }
      ]
    },
    {
      "cell_type": "code",
      "metadata": {
        "id": "ghSLqVs18_gO",
        "outputId": "6b62a9f1-00e6-491c-a09b-2a1262335088"
      },
      "source": [
        "ff=kk[\"city\"]\n",
        "change_data, mapping_index = pd.Series(ff).factorize()\n",
        "print(change_data)\n",
        "print(mapping_index)\n",
        "print(mapping_index.get_loc(\"Visakhapatnam\"))"
      ],
      "execution_count": null,
      "outputs": [
        {
          "output_type": "stream",
          "text": [
            "[ 0  1  2  3  4  5  6  7  6  1  0  7  3  1  0  4  2  6  5  7  6  1  3  5\n",
            "  0  7  3  2  4  5  0  7  6  5  1  4  3  1  2  3  2  5  6  4  0  4  3  7\n",
            "  1  2  7  0  4  5  6  3  3  3  8  8  8  8  9 10  8 10  8 10 10  9  8 10\n",
            "  9 11 10 10 11 11 12 10  9 13  9 13 12 10 10 11 11 11 12 14 14  9 13 14\n",
            " 11 11 10 10 10 15  9 13 13 15 11 13 10 10 11 11 11 13 13  3  3  1  4  7\n",
            " 16  0  4  2  0  2 17 16  3 17  7  3  0  1  3 16  1  0 16  3  2  3  7  2\n",
            "  4  1  7  3  4  2 18  7  5  4  0  1 18  0  2  5 18  3  7  5  7 19  0  4\n",
            " 19  2  4  3  3  3  3  7  6 20  2  3  4  5  0  1  3  6  5  3  7  6  3  4\n",
            " 20  2  3  4  1  3  4  2  6  5  7  2  3 20  2  5  0 20  4  5  7  3  2  6\n",
            "  7  3 20  6  0  4  3  0  1  5  6  1  5  7 21  0  3 19 21  3 19  7  3  3\n",
            " 19  2  0  4  3  3  7  7  7  4  3  5  0 22  5 23 22  0  2  3  7  1  4  2\n",
            " 23  4  0  3  5  0  1  6  7  1  7  2  3 17  5 23  1 23  2  7  4  2  3  7\n",
            " 17  5  0 23  7  4  1  3  0  2 23  6  3  5 23  4  7  5  1  0  4  2  3 19\n",
            "  2  6 19 23  6  5 23  0  7  7  4  0  6  2  7 23  6  5  3  1  0 23  2  3\n",
            "  7  4  5  7  1  0 23  5  2  6  4  0  2  1  7  0 19  4  7  4  5  3  7 24\n",
            "  5  3 23  6 24  7 23  4  6  0  3  5  0  5  3  6  1 23  2 23  1 25  5  2\n",
            "  3 25  7  3  1  6 19 23  0  6  2  2  4  4 26 27 26 26 28 28 27 26 27 28\n",
            " 27 28 28 26 26 27 27 28 26 28 25  3  2  0 16  2  3  2 17 16  0  2  3 17\n",
            "  0  6 25  0  6 17 16 25  6 16  2  6  4  1  4 25  3  1  0  4  1  3  4  3\n",
            "  3  0  4  7 23  7  4  2  3  0 16  4 23 22  3 22 23 16  0  2 16 22  0  2\n",
            " 16  3  7  2  1  4  0  7  2  3  0  6  1  3  7  4  3  0  3  7  4 24  3  7\n",
            "  6 24  1  3  6  1  3  0  6  3 23 25  4  3  4  1  0  4 29  2  6  3  1  0\n",
            "  6  1  3 29 23  2  6 29 23  1  6  2  3 23  2  6 29 23  0 29  4  2  6  0\n",
            "  1 22  4  1 22  0  6 22  0  4  1 22  4 22  0 30 24 22 30  4 24  0  2  2\n",
            "  0]\n",
            "Index(['Bangalore', 'Chandigarh', 'Delhi', 'Mumbai', 'Kolkata', 'Jaipur',\n",
            "       'Hyderabad', 'Chennai', 'Cape Town', 'Port Elizabeth', 'Durban',\n",
            "       'Centurion', 'East London', 'Johannesburg', 'Kimberley', 'Bloemfontein',\n",
            "       'Ahmedabad', 'Cuttack', 'Nagpur', 'Dharamsala', 'Kochi', 'Indore',\n",
            "       'Visakhapatnam', 'Pune', 'Raipur', 'Ranchi', 'Abu Dhabi', 'Sharjah',\n",
            "       'Dubai', 'Rajkot', 'Kanpur'],\n",
            "      dtype='object')\n",
            "22\n"
          ],
          "name": "stdout"
        }
      ]
    },
    {
      "cell_type": "code",
      "metadata": {
        "id": "rPNd-ntj8_gO",
        "outputId": "74c63c77-4739-4912-c585-8019a3c66f3e"
      },
      "source": [
        "cat_list1=df[\"venue\"]\n",
        "encoded_data1, mapping_index1 = pd.Series(cat_list1).factorize()\n",
        "print(encoded_data1)\n",
        "print(mapping_index1)\n",
        "print(mapping_index1.get_loc(\"Dr. Y.S. Rajasekhara Reddy ACA-VDCA Cricket Stadium\"))"
      ],
      "execution_count": null,
      "outputs": [
        {
          "output_type": "stream",
          "text": [
            "[ 0  1  2  3  4  5  6  7  6  1  0  7  8  1  0  4  2  6  5  7  6  1  8  5\n",
            "  0  7  8  2  4  5  0  7  6  5  1  4  3  1  2  3  2  5  6  4  0  4  3  7\n",
            "  1  2  7  0  4  5  6  3  3  8  9  9  9  9 10 11  9 11  9 11 11 10  9 11\n",
            " 10 12 11 11 12 12 13 11 10 14 10 14 13 11 11 12 12 12 13 15 15 10 14 15\n",
            " 12 12 11 11 11 16 10 14 14 16 12 14 11 11 12 12 12 14 14  8 17  1  4  7\n",
            " 18  0  4  2  0  2 19 18 17 19  7 17  0  1 17 18  1  0 18  8  2 17  7  2\n",
            "  4  1  7 17  4  2 20  7  5  4  0  1 20  0  2  5 20 17  7  5  7 21  0  4\n",
            " 21  2  4  8  8  8  8  7  6 22  2  8  4  5  0  1  8  6  5  3  7  6  8  4\n",
            " 22  2  3  4  1  3  4  2  6  5  7  2  8 22  2  5  0 22  4  5  7  3  2  6\n",
            "  7  8 22  6  0  4  3  0  1  5  6  1  5  7 23  0  3 21 23  8 21  7  8  3\n",
            " 21  2  0  4  3  3  7  7  7  4  3  5  0 24  5 25 24  0  2  3  7  1  4  2\n",
            " 25  4  0  3  5  0  1  6  7  1  7  2  3 19  5 25  1 25  2  7  4  2  3  7\n",
            " 19  5  0 25  7  4  1  3  0  2 25  6  3  5 25  4  7  5  1  0  4  2  3 21\n",
            "  2  6 21 25  6  5 25  0  7  7  4  0  6  2  7 25  6  5  3  1  0 25  2  3\n",
            "  7  4  5  7  1  0 25  5  2  6  4  0  2  1  7  0 21  4  7  4  5  3  7 26\n",
            "  5  3 25  6 26  7 25  4  6  0  3  5  0  5  3  6  1 25  2 25  1 27  5  2\n",
            "  3 27  7  3  1  6 21 25  0  6  2  2  4  4 28 29 28 28 30 30 29 28 29 30\n",
            " 29 30 30 28 28 29 29 30 28 30 27  3  2  0 18  2  3  2 19 18  0  2  3 19\n",
            "  0  6 27  0  6 19 18 27  6 18  2  6  4  1  4 27  3  1  0  4  1  3  4 17\n",
            "  3  0  4  7 31  7  4  2  3  0 18  4 31 24  3 24 31 18  0  2 18 24  0  2\n",
            " 18  3  7  2  1  4  0  7  2  3  0  6  1 17  7  4  3  0 17  7  4 26  3  7\n",
            "  6 26  1  3  6  1 17  0  6  3 31 27  4  3  4 32  0  4 33  2  6  3 32  0\n",
            "  6 32  3 33 31  2  6 33 31 32  6  2  3 31  2  6 33 31  0 33  4  2  6  0\n",
            " 32 24  4 32 24  0  6 24  0  4 32 24  4 24  0 34 26 24 34  4 26  0  2  2\n",
            "  0]\n",
            "Index(['M Chinnaswamy Stadium', 'Punjab Cricket Association Stadium, Mohali',\n",
            "       'Feroz Shah Kotla', 'Wankhede Stadium', 'Eden Gardens',\n",
            "       'Sawai Mansingh Stadium', 'Rajiv Gandhi International Stadium, Uppal',\n",
            "       'MA Chidambaram Stadium, Chepauk', 'Dr DY Patil Sports Academy',\n",
            "       'Newlands', 'St George's Park', 'Kingsmead', 'SuperSport Park',\n",
            "       'Buffalo Park', 'New Wanderers Stadium', 'De Beers Diamond Oval',\n",
            "       'OUTsurance Oval', 'Brabourne Stadium', 'Sardar Patel Stadium, Motera',\n",
            "       'Barabati Stadium', 'Vidarbha Cricket Association Stadium, Jamtha',\n",
            "       'Himachal Pradesh Cricket Association Stadium', 'Nehru Stadium',\n",
            "       'Holkar Cricket Stadium',\n",
            "       'Dr. Y.S. Rajasekhara Reddy ACA-VDCA Cricket Stadium',\n",
            "       'Subrata Roy Sahara Stadium',\n",
            "       'Shaheed Veer Narayan Singh International Stadium',\n",
            "       'JSCA International Stadium Complex', 'Sheikh Zayed Stadium',\n",
            "       'Sharjah Cricket Stadium', 'Dubai International Cricket Stadium',\n",
            "       'Maharashtra Cricket Association Stadium',\n",
            "       'Punjab Cricket Association IS Bindra Stadium, Mohali',\n",
            "       'Saurashtra Cricket Association Stadium', 'Green Park'],\n",
            "      dtype='object')\n",
            "24\n"
          ],
          "name": "stdout"
        }
      ]
    },
    {
      "cell_type": "code",
      "metadata": {
        "id": "gd-CMUuj8_gP",
        "outputId": "1d0e07c3-6bc4-428c-f0ef-39e553cdd23c"
      },
      "source": [
        "cat_list2=df[\"toss_decision\"]\n",
        "encoded_data2, mapping_index2 = pd.Series(cat_list2).factorize()\n",
        "print(mapping_index2)\n",
        "print(mapping_index2.get_loc(\"field\"))"
      ],
      "execution_count": null,
      "outputs": [
        {
          "output_type": "stream",
          "text": [
            "Index(['field', 'bat'], dtype='object')\n",
            "0\n"
          ],
          "name": "stdout"
        }
      ]
    },
    {
      "cell_type": "code",
      "metadata": {
        "id": "23tJggmh8_gQ",
        "outputId": "573305e9-728a-43ff-899b-f023965e109b"
      },
      "source": [
        "yu=df['toss_winner'].value_counts(sort=True)\n",
        "yu2=df['winner'].value_counts(sort=True)\n",
        "print('No of toss winners by each team')\n",
        "for idx, val in yu.iteritems():\n",
        "    print('{} -> {}'.format(list(dicVal.keys())[list(dicVal.values()).index(idx)],val))\n",
        "print('No of match winners by each team')\n",
        "for idx, val in yu2.iteritems():\n",
        "    print('{} -> {}'.format(list(dicVal.keys())[list(dicVal.values()).index(idx)],val))"
      ],
      "execution_count": null,
      "outputs": [
        {
          "output_type": "stream",
          "text": [
            "No of toss winners by each team\n",
            "MI -> 74\n",
            "KKR -> 69\n",
            "CSK -> 66\n",
            "KXIP -> 64\n",
            "DD -> 64\n",
            "RR -> 63\n",
            "RCB -> 61\n",
            "DC -> 43\n",
            "SRH -> 30\n",
            "PW -> 20\n",
            "KTK -> 8\n",
            "GL -> 8\n",
            "RPS -> 7\n",
            "No of match winners by each team\n",
            "MI -> 80\n",
            "CSK -> 79\n",
            "RCB -> 70\n",
            "KKR -> 68\n",
            "KXIP -> 63\n",
            "RR -> 63\n",
            "DD -> 56\n",
            "SRH -> 34\n",
            "DC -> 29\n",
            "PW -> 12\n",
            "GL -> 9\n",
            "KTK -> 6\n",
            "RPS -> 5\n",
            "Draw -> 3\n"
          ],
          "name": "stdout"
        }
      ]
    },
    {
      "cell_type": "code",
      "metadata": {
        "id": "0HOCaYWD8_gQ",
        "outputId": "3f48aff0-d3d4-40be-dba9-7f4fa5bf7598"
      },
      "source": [
        "kk['toss_winner'].hist(bins=50)"
      ],
      "execution_count": null,
      "outputs": [
        {
          "output_type": "execute_result",
          "data": {
            "text/plain": [
              "<matplotlib.axes._subplots.AxesSubplot at 0x270c0ced780>"
            ]
          },
          "metadata": {
            "tags": []
          },
          "execution_count": 49
        },
        {
          "output_type": "display_data",
          "data": {
            "image/png": "[encoded data removed]",
            "text/plain": [
              "<Figure size 432x288 with 1 Axes>"
            ]
          },
          "metadata": {
            "tags": [],
            "needs_background": "light"
          }
        }
      ]
    },
    {
      "cell_type": "code",
      "metadata": {
        "id": "9M5_A7gT8_gR",
        "outputId": "f4111da8-caf4-4639-d06c-dd4462a07a1e"
      },
      "source": [
        "kk['winner'].hist(bins=50)"
      ],
      "execution_count": null,
      "outputs": [
        {
          "output_type": "execute_result",
          "data": {
            "text/plain": [
              "<matplotlib.axes._subplots.AxesSubplot at 0x270c0c33be0>"
            ]
          },
          "metadata": {
            "tags": []
          },
          "execution_count": 50
        },
        {
          "output_type": "display_data",
          "data": {
            "image/png": "[encoded data removed]",
            "text/plain": [
              "<Figure size 432x288 with 1 Axes>"
            ]
          },
          "metadata": {
            "tags": [],
            "needs_background": "light"
          }
        }
      ]
    },
    {
      "cell_type": "code",
      "metadata": {
        "id": "nyFHL1kg8_gR",
        "outputId": "1a606de4-064a-4e7b-a1bb-9e010dccdf8c"
      },
      "source": [
        "import matplotlib.pyplot as plt\n",
        "fig = plt.figure(figsize=(8,4))\n",
        "ax1 = fig.add_subplot(121)\n",
        "ax1.set_xlabel('toss_winner')\n",
        "ax1.set_ylabel('Count of toss winners')\n",
        "ax1.set_title(\"toss winners\")\n",
        "temp1.plot(kind='bar')\n",
        "\n",
        "ax2 = fig.add_subplot(122)\n",
        "temp2.plot(kind = 'bar')\n",
        "ax2.set_xlabel('winner')\n",
        "ax2.set_ylabel('Count of match winners')\n",
        "ax2.set_title(\"Match winners\")"
      ],
      "execution_count": null,
      "outputs": [
        {
          "output_type": "execute_result",
          "data": {
            "text/plain": [
              "Text(0.5, 1.0, 'Match winners')"
            ]
          },
          "metadata": {
            "tags": []
          },
          "execution_count": 51
        },
        {
          "output_type": "display_data",
          "data": {
            "image/png": "[encoded data removed]",
            "text/plain": [
              "<Figure size 576x288 with 2 Axes>"
            ]
          },
          "metadata": {
            "tags": [],
            "needs_background": "light"
          }
        }
      ]
    },
    {
      "cell_type": "code",
      "metadata": {
        "id": "TnmHvwTP8_gS",
        "outputId": "25d04017-5a7a-4b39-a402-40be531094a1"
      },
      "source": [
        "kk.boxplot(column='toss_winner', by = 'winner') \n",
        "plt.suptitle(\"\")"
      ],
      "execution_count": null,
      "outputs": [
        {
          "output_type": "execute_result",
          "data": {
            "text/plain": [
              "Text(0.5, 0.98, '')"
            ]
          },
          "metadata": {
            "tags": []
          },
          "execution_count": 52
        },
        {
          "output_type": "display_data",
          "data": {
            "image/png": "[encoded data removed]",
            "text/plain": [
              "<Figure size 432x288 with 1 Axes>"
            ]
          },
          "metadata": {
            "tags": [],
            "needs_background": "light"
          }
        }
      ]
    },
    {
      "cell_type": "code",
      "metadata": {
        "id": "nIQYUXPe8_gT",
        "outputId": "724be278-59f2-4d40-adfe-ffe82c412ad4"
      },
      "source": [
        "import seaborn as sns\n",
        "plt.figure(1) \n",
        "plt.subplot(121) \n",
        "kuk=kk.dropna() \n",
        "sns.distplot(kk['winner']); \n",
        "plt.subplot(122) \n",
        "matches['winner'].plot.box(figsize=(16,5)) \n",
        "plt.show()"
      ],
      "execution_count": null,
      "outputs": [
        {
          "output_type": "display_data",
          "data": {
            "image/png": "[encoded data removed]",
            "text/plain": [
              "<Figure size 1152x360 with 2 Axes>"
            ]
          },
          "metadata": {
            "tags": [],
            "needs_background": "light"
          }
        }
      ]
    },
    {
      "cell_type": "code",
      "metadata": {
        "id": "tuGA6NFT8_gT",
        "outputId": "976c32cc-d58e-4206-84a8-7a0b4176a9a0"
      },
      "source": [
        "matches.groupby('winner')['team1'].mean().plot.bar()"
      ],
      "execution_count": null,
      "outputs": [
        {
          "output_type": "execute_result",
          "data": {
            "text/plain": [
              "<matplotlib.axes._subplots.AxesSubplot at 0x270c3816860>"
            ]
          },
          "metadata": {
            "tags": []
          },
          "execution_count": 56
        },
        {
          "output_type": "display_data",
          "data": {
            "image/png": "[encoded data removed]",
            "text/plain": [
              "<Figure size 432x288 with 1 Axes>"
            ]
          },
          "metadata": {
            "tags": [],
            "needs_background": "light"
          }
        }
      ]
    },
    {
      "cell_type": "code",
      "metadata": {
        "id": "zTFFUPLi8_gU",
        "outputId": "ac5aea1e-fdb9-4292-fb29-5e0aaba8ec33"
      },
      "source": [
        "matrix = matches.corr() \n",
        "f, ax = plt.subplots(figsize=(9, 6)) \n",
        "sns.heatmap(matrix, vmax=.8, square=True, cmap=\"BuPu\")"
      ],
      "execution_count": null,
      "outputs": [
        {
          "output_type": "execute_result",
          "data": {
            "text/plain": [
              "<matplotlib.axes._subplots.AxesSubplot at 0x270c5505eb8>"
            ]
          },
          "metadata": {
            "tags": []
          },
          "execution_count": 57
        },
        {
          "output_type": "display_data",
          "data": {
            "image/png": "[encoded data removed]",
            "text/plain": [
              "<Figure size 648x432 with 2 Axes>"
            ]
          },
          "metadata": {
            "tags": [],
            "needs_background": "light"
          }
        }
      ]
    },
    {
      "cell_type": "code",
      "metadata": {
        "id": "_m35OWPE8_gU",
        "outputId": "046a8cf8-2876-4e0f-a5ca-e0f51aed59b6"
      },
      "source": [
        "matrix2 = deliveries.corr() \n",
        "f, ax = plt.subplots(figsize=(9, 6)) \n",
        "sns.heatmap(matrix, vmax=.8, square=True, cmap=\"flag_r\")"
      ],
      "execution_count": null,
      "outputs": [
        {
          "output_type": "execute_result",
          "data": {
            "text/plain": [
              "<matplotlib.axes._subplots.AxesSubplot at 0x270c3b7e668>"
            ]
          },
          "metadata": {
            "tags": []
          },
          "execution_count": 63
        },
        {
          "output_type": "display_data",
          "data": {
            "image/png": "[encoded data removed]",
            "text/plain": [
              "<Figure size 648x432 with 2 Axes>"
            ]
          },
          "metadata": {
            "tags": [],
            "needs_background": "light"
          }
        }
      ]
    },
    {
      "cell_type": "code",
      "metadata": {
        "id": "MX1SIYCk8_gW",
        "outputId": "6e5a963c-9d94-41c9-a1c3-af3ce05a5e5f"
      },
      "source": [
        "kk.apply(lambda x: sum(x.isnull()),axis=0) "
      ],
      "execution_count": null,
      "outputs": [
        {
          "output_type": "execute_result",
          "data": {
            "text/plain": [
              "team1            0\n",
              "team2            0\n",
              "city             0\n",
              "toss_decision    0\n",
              "toss_winner      0\n",
              "venue            0\n",
              "winner           0\n",
              "dtype: int64"
            ]
          },
          "metadata": {
            "tags": []
          },
          "execution_count": 24
        }
      ]
    },
    {
      "cell_type": "code",
      "metadata": {
        "id": "FESmKSln8_gW",
        "outputId": "e9b95d35-a7d0-43e1-eb7a-d758992a332b"
      },
      "source": [
        " deliveries.apply(lambda x: sum(x.isnull()),axis=0) "
      ],
      "execution_count": null,
      "outputs": [
        {
          "output_type": "execute_result",
          "data": {
            "text/plain": [
              "batting_team     0\n",
              "bowling_team     0\n",
              "batsman          0\n",
              "non_striker      0\n",
              "bowler           0\n",
              "is_super_over    0\n",
              "wide_runs        0\n",
              "bye_runs         0\n",
              "dtype: int64"
            ]
          },
          "metadata": {
            "tags": []
          },
          "execution_count": 65
        }
      ]
    },
    {
      "cell_type": "code",
      "metadata": {
        "id": "gUpWDiOT8_gX",
        "outputId": "e5a4302f-c5fe-4cb2-ba83-dd0248ff8eb8"
      },
      "source": [
        "kk[pd.isnull(kk['city'])]"
      ],
      "execution_count": null,
      "outputs": [
        {
          "output_type": "execute_result",
          "data": {
            "text/html": [
              "<div>\n",
              "<style scoped>\n",
              "    .dataframe tbody tr th:only-of-type {\n",
              "        vertical-align: middle;\n",
              "    }\n",
              "\n",
              "    .dataframe tbody tr th {\n",
              "        vertical-align: top;\n",
              "    }\n",
              "\n",
              "    .dataframe thead th {\n",
              "        text-align: right;\n",
              "    }\n",
              "</style>\n",
              "<table border=\"1\" class=\"dataframe\">\n",
              "  <thead>\n",
              "    <tr style=\"text-align: right;\">\n",
              "      <th></th>\n",
              "      <th>team1</th>\n",
              "      <th>team2</th>\n",
              "      <th>city</th>\n",
              "      <th>toss_decision</th>\n",
              "      <th>toss_winner</th>\n",
              "      <th>venue</th>\n",
              "      <th>winner</th>\n",
              "    </tr>\n",
              "  </thead>\n",
              "  <tbody>\n",
              "  </tbody>\n",
              "</table>\n",
              "</div>"
            ],
            "text/plain": [
              "Empty DataFrame\n",
              "Columns: [team1, team2, city, toss_decision, toss_winner, venue, winner]\n",
              "Index: []"
            ]
          },
          "metadata": {
            "tags": []
          },
          "execution_count": 25
        }
      ]
    },
    {
      "cell_type": "code",
      "metadata": {
        "id": "xyZW0soQ8_gX",
        "outputId": "f1d54875-e8ac-48e1-9ff5-bb74dbe60420"
      },
      "source": [
        "from sklearn.preprocessing import LabelEncoder\n",
        "var_mod = ['city','toss_decision','venue']\n",
        "le = LabelEncoder()\n",
        "for i in var_mod:\n",
        "    kk[i] = le.fit_transform(kk[i])\n",
        "kk "
      ],
      "execution_count": null,
      "outputs": [
        {
          "output_type": "execute_result",
          "data": {
            "text/html": [
              "<div>\n",
              "<style scoped>\n",
              "    .dataframe tbody tr th:only-of-type {\n",
              "        vertical-align: middle;\n",
              "    }\n",
              "\n",
              "    .dataframe tbody tr th {\n",
              "        vertical-align: top;\n",
              "    }\n",
              "\n",
              "    .dataframe thead th {\n",
              "        text-align: right;\n",
              "    }\n",
              "</style>\n",
              "<table border=\"1\" class=\"dataframe\">\n",
              "  <thead>\n",
              "    <tr style=\"text-align: right;\">\n",
              "      <th></th>\n",
              "      <th>team1</th>\n",
              "      <th>team2</th>\n",
              "      <th>city</th>\n",
              "      <th>toss_decision</th>\n",
              "      <th>toss_winner</th>\n",
              "      <th>venue</th>\n",
              "      <th>winner</th>\n",
              "    </tr>\n",
              "  </thead>\n",
              "  <tbody>\n",
              "    <tr>\n",
              "      <th>0</th>\n",
              "      <td>2</td>\n",
              "      <td>3</td>\n",
              "      <td>2</td>\n",
              "      <td>1</td>\n",
              "      <td>3</td>\n",
              "      <td>14</td>\n",
              "      <td>2</td>\n",
              "    </tr>\n",
              "    <tr>\n",
              "      <th>1</th>\n",
              "      <td>5</td>\n",
              "      <td>9</td>\n",
              "      <td>6</td>\n",
              "      <td>0</td>\n",
              "      <td>5</td>\n",
              "      <td>22</td>\n",
              "      <td>5</td>\n",
              "    </tr>\n",
              "    <tr>\n",
              "      <th>2</th>\n",
              "      <td>6</td>\n",
              "      <td>7</td>\n",
              "      <td>9</td>\n",
              "      <td>0</td>\n",
              "      <td>6</td>\n",
              "      <td>8</td>\n",
              "      <td>7</td>\n",
              "    </tr>\n",
              "    <tr>\n",
              "      <th>3</th>\n",
              "      <td>1</td>\n",
              "      <td>3</td>\n",
              "      <td>22</td>\n",
              "      <td>0</td>\n",
              "      <td>1</td>\n",
              "      <td>34</td>\n",
              "      <td>3</td>\n",
              "    </tr>\n",
              "    <tr>\n",
              "      <th>4</th>\n",
              "      <td>4</td>\n",
              "      <td>2</td>\n",
              "      <td>21</td>\n",
              "      <td>0</td>\n",
              "      <td>4</td>\n",
              "      <td>7</td>\n",
              "      <td>2</td>\n",
              "    </tr>\n",
              "    <tr>\n",
              "      <th>5</th>\n",
              "      <td>9</td>\n",
              "      <td>6</td>\n",
              "      <td>16</td>\n",
              "      <td>0</td>\n",
              "      <td>9</td>\n",
              "      <td>26</td>\n",
              "      <td>6</td>\n",
              "    </tr>\n",
              "    <tr>\n",
              "      <th>6</th>\n",
              "      <td>4</td>\n",
              "      <td>7</td>\n",
              "      <td>14</td>\n",
              "      <td>0</td>\n",
              "      <td>4</td>\n",
              "      <td>23</td>\n",
              "      <td>7</td>\n",
              "    </tr>\n",
              "    <tr>\n",
              "      <th>7</th>\n",
              "      <td>5</td>\n",
              "      <td>1</td>\n",
              "      <td>7</td>\n",
              "      <td>1</td>\n",
              "      <td>1</td>\n",
              "      <td>15</td>\n",
              "      <td>5</td>\n",
              "    </tr>\n",
              "    <tr>\n",
              "      <th>8</th>\n",
              "      <td>4</td>\n",
              "      <td>6</td>\n",
              "      <td>14</td>\n",
              "      <td>1</td>\n",
              "      <td>6</td>\n",
              "      <td>23</td>\n",
              "      <td>6</td>\n",
              "    </tr>\n",
              "    <tr>\n",
              "      <th>9</th>\n",
              "      <td>9</td>\n",
              "      <td>1</td>\n",
              "      <td>6</td>\n",
              "      <td>1</td>\n",
              "      <td>1</td>\n",
              "      <td>22</td>\n",
              "      <td>9</td>\n",
              "    </tr>\n",
              "    <tr>\n",
              "      <th>10</th>\n",
              "      <td>3</td>\n",
              "      <td>6</td>\n",
              "      <td>2</td>\n",
              "      <td>1</td>\n",
              "      <td>6</td>\n",
              "      <td>14</td>\n",
              "      <td>6</td>\n",
              "    </tr>\n",
              "    <tr>\n",
              "      <th>11</th>\n",
              "      <td>2</td>\n",
              "      <td>5</td>\n",
              "      <td>7</td>\n",
              "      <td>0</td>\n",
              "      <td>2</td>\n",
              "      <td>15</td>\n",
              "      <td>5</td>\n",
              "    </tr>\n",
              "    <tr>\n",
              "      <th>12</th>\n",
              "      <td>1</td>\n",
              "      <td>4</td>\n",
              "      <td>22</td>\n",
              "      <td>1</td>\n",
              "      <td>4</td>\n",
              "      <td>4</td>\n",
              "      <td>4</td>\n",
              "    </tr>\n",
              "    <tr>\n",
              "      <th>13</th>\n",
              "      <td>7</td>\n",
              "      <td>9</td>\n",
              "      <td>6</td>\n",
              "      <td>0</td>\n",
              "      <td>7</td>\n",
              "      <td>22</td>\n",
              "      <td>9</td>\n",
              "    </tr>\n",
              "    <tr>\n",
              "      <th>14</th>\n",
              "      <td>5</td>\n",
              "      <td>3</td>\n",
              "      <td>2</td>\n",
              "      <td>0</td>\n",
              "      <td>5</td>\n",
              "      <td>14</td>\n",
              "      <td>5</td>\n",
              "    </tr>\n",
              "    <tr>\n",
              "      <th>15</th>\n",
              "      <td>2</td>\n",
              "      <td>1</td>\n",
              "      <td>21</td>\n",
              "      <td>0</td>\n",
              "      <td>2</td>\n",
              "      <td>7</td>\n",
              "      <td>1</td>\n",
              "    </tr>\n",
              "    <tr>\n",
              "      <th>16</th>\n",
              "      <td>7</td>\n",
              "      <td>3</td>\n",
              "      <td>9</td>\n",
              "      <td>1</td>\n",
              "      <td>3</td>\n",
              "      <td>8</td>\n",
              "      <td>7</td>\n",
              "    </tr>\n",
              "    <tr>\n",
              "      <th>17</th>\n",
              "      <td>4</td>\n",
              "      <td>9</td>\n",
              "      <td>14</td>\n",
              "      <td>1</td>\n",
              "      <td>9</td>\n",
              "      <td>23</td>\n",
              "      <td>9</td>\n",
              "    </tr>\n",
              "    <tr>\n",
              "      <th>18</th>\n",
              "      <td>6</td>\n",
              "      <td>2</td>\n",
              "      <td>16</td>\n",
              "      <td>0</td>\n",
              "      <td>6</td>\n",
              "      <td>26</td>\n",
              "      <td>6</td>\n",
              "    </tr>\n",
              "    <tr>\n",
              "      <th>19</th>\n",
              "      <td>5</td>\n",
              "      <td>7</td>\n",
              "      <td>7</td>\n",
              "      <td>0</td>\n",
              "      <td>5</td>\n",
              "      <td>15</td>\n",
              "      <td>7</td>\n",
              "    </tr>\n",
              "    <tr>\n",
              "      <th>20</th>\n",
              "      <td>4</td>\n",
              "      <td>3</td>\n",
              "      <td>14</td>\n",
              "      <td>0</td>\n",
              "      <td>4</td>\n",
              "      <td>23</td>\n",
              "      <td>3</td>\n",
              "    </tr>\n",
              "    <tr>\n",
              "      <th>21</th>\n",
              "      <td>9</td>\n",
              "      <td>2</td>\n",
              "      <td>6</td>\n",
              "      <td>0</td>\n",
              "      <td>9</td>\n",
              "      <td>22</td>\n",
              "      <td>9</td>\n",
              "    </tr>\n",
              "    <tr>\n",
              "      <th>22</th>\n",
              "      <td>1</td>\n",
              "      <td>7</td>\n",
              "      <td>22</td>\n",
              "      <td>1</td>\n",
              "      <td>7</td>\n",
              "      <td>4</td>\n",
              "      <td>1</td>\n",
              "    </tr>\n",
              "    <tr>\n",
              "      <th>23</th>\n",
              "      <td>5</td>\n",
              "      <td>6</td>\n",
              "      <td>16</td>\n",
              "      <td>0</td>\n",
              "      <td>5</td>\n",
              "      <td>26</td>\n",
              "      <td>6</td>\n",
              "    </tr>\n",
              "    <tr>\n",
              "      <th>24</th>\n",
              "      <td>3</td>\n",
              "      <td>9</td>\n",
              "      <td>2</td>\n",
              "      <td>1</td>\n",
              "      <td>9</td>\n",
              "      <td>14</td>\n",
              "      <td>9</td>\n",
              "    </tr>\n",
              "    <tr>\n",
              "      <th>25</th>\n",
              "      <td>5</td>\n",
              "      <td>4</td>\n",
              "      <td>7</td>\n",
              "      <td>1</td>\n",
              "      <td>4</td>\n",
              "      <td>15</td>\n",
              "      <td>4</td>\n",
              "    </tr>\n",
              "    <tr>\n",
              "      <th>26</th>\n",
              "      <td>6</td>\n",
              "      <td>1</td>\n",
              "      <td>22</td>\n",
              "      <td>1</td>\n",
              "      <td>1</td>\n",
              "      <td>4</td>\n",
              "      <td>1</td>\n",
              "    </tr>\n",
              "    <tr>\n",
              "      <th>27</th>\n",
              "      <td>7</td>\n",
              "      <td>5</td>\n",
              "      <td>9</td>\n",
              "      <td>1</td>\n",
              "      <td>5</td>\n",
              "      <td>8</td>\n",
              "      <td>5</td>\n",
              "    </tr>\n",
              "    <tr>\n",
              "      <th>28</th>\n",
              "      <td>2</td>\n",
              "      <td>3</td>\n",
              "      <td>21</td>\n",
              "      <td>0</td>\n",
              "      <td>2</td>\n",
              "      <td>7</td>\n",
              "      <td>2</td>\n",
              "    </tr>\n",
              "    <tr>\n",
              "      <th>29</th>\n",
              "      <td>4</td>\n",
              "      <td>6</td>\n",
              "      <td>16</td>\n",
              "      <td>1</td>\n",
              "      <td>6</td>\n",
              "      <td>26</td>\n",
              "      <td>6</td>\n",
              "    </tr>\n",
              "    <tr>\n",
              "      <th>...</th>\n",
              "      <td>...</td>\n",
              "      <td>...</td>\n",
              "      <td>...</td>\n",
              "      <td>...</td>\n",
              "      <td>...</td>\n",
              "      <td>...</td>\n",
              "      <td>...</td>\n",
              "    </tr>\n",
              "    <tr>\n",
              "      <th>547</th>\n",
              "      <td>8</td>\n",
              "      <td>7</td>\n",
              "      <td>27</td>\n",
              "      <td>1</td>\n",
              "      <td>7</td>\n",
              "      <td>25</td>\n",
              "      <td>7</td>\n",
              "    </tr>\n",
              "    <tr>\n",
              "      <th>548</th>\n",
              "      <td>2</td>\n",
              "      <td>9</td>\n",
              "      <td>21</td>\n",
              "      <td>1</td>\n",
              "      <td>9</td>\n",
              "      <td>7</td>\n",
              "      <td>2</td>\n",
              "    </tr>\n",
              "    <tr>\n",
              "      <th>549</th>\n",
              "      <td>7</td>\n",
              "      <td>11</td>\n",
              "      <td>9</td>\n",
              "      <td>1</td>\n",
              "      <td>11</td>\n",
              "      <td>8</td>\n",
              "      <td>11</td>\n",
              "    </tr>\n",
              "    <tr>\n",
              "      <th>550</th>\n",
              "      <td>8</td>\n",
              "      <td>10</td>\n",
              "      <td>14</td>\n",
              "      <td>1</td>\n",
              "      <td>10</td>\n",
              "      <td>23</td>\n",
              "      <td>10</td>\n",
              "    </tr>\n",
              "    <tr>\n",
              "      <th>551</th>\n",
              "      <td>11</td>\n",
              "      <td>3</td>\n",
              "      <td>2</td>\n",
              "      <td>1</td>\n",
              "      <td>3</td>\n",
              "      <td>14</td>\n",
              "      <td>3</td>\n",
              "    </tr>\n",
              "    <tr>\n",
              "      <th>552</th>\n",
              "      <td>9</td>\n",
              "      <td>7</td>\n",
              "      <td>6</td>\n",
              "      <td>1</td>\n",
              "      <td>7</td>\n",
              "      <td>21</td>\n",
              "      <td>9</td>\n",
              "    </tr>\n",
              "    <tr>\n",
              "      <th>553</th>\n",
              "      <td>10</td>\n",
              "      <td>1</td>\n",
              "      <td>30</td>\n",
              "      <td>1</td>\n",
              "      <td>1</td>\n",
              "      <td>5</td>\n",
              "      <td>10</td>\n",
              "    </tr>\n",
              "    <tr>\n",
              "      <th>554</th>\n",
              "      <td>2</td>\n",
              "      <td>8</td>\n",
              "      <td>21</td>\n",
              "      <td>1</td>\n",
              "      <td>8</td>\n",
              "      <td>7</td>\n",
              "      <td>8</td>\n",
              "    </tr>\n",
              "    <tr>\n",
              "      <th>555</th>\n",
              "      <td>3</td>\n",
              "      <td>9</td>\n",
              "      <td>6</td>\n",
              "      <td>1</td>\n",
              "      <td>9</td>\n",
              "      <td>21</td>\n",
              "      <td>3</td>\n",
              "    </tr>\n",
              "    <tr>\n",
              "      <th>556</th>\n",
              "      <td>10</td>\n",
              "      <td>11</td>\n",
              "      <td>30</td>\n",
              "      <td>0</td>\n",
              "      <td>10</td>\n",
              "      <td>5</td>\n",
              "      <td>10</td>\n",
              "    </tr>\n",
              "    <tr>\n",
              "      <th>557</th>\n",
              "      <td>3</td>\n",
              "      <td>1</td>\n",
              "      <td>2</td>\n",
              "      <td>1</td>\n",
              "      <td>1</td>\n",
              "      <td>14</td>\n",
              "      <td>1</td>\n",
              "    </tr>\n",
              "    <tr>\n",
              "      <th>558</th>\n",
              "      <td>10</td>\n",
              "      <td>7</td>\n",
              "      <td>14</td>\n",
              "      <td>1</td>\n",
              "      <td>7</td>\n",
              "      <td>23</td>\n",
              "      <td>7</td>\n",
              "    </tr>\n",
              "    <tr>\n",
              "      <th>559</th>\n",
              "      <td>1</td>\n",
              "      <td>9</td>\n",
              "      <td>30</td>\n",
              "      <td>0</td>\n",
              "      <td>1</td>\n",
              "      <td>5</td>\n",
              "      <td>9</td>\n",
              "    </tr>\n",
              "    <tr>\n",
              "      <th>560</th>\n",
              "      <td>3</td>\n",
              "      <td>8</td>\n",
              "      <td>2</td>\n",
              "      <td>1</td>\n",
              "      <td>8</td>\n",
              "      <td>14</td>\n",
              "      <td>3</td>\n",
              "    </tr>\n",
              "    <tr>\n",
              "      <th>561</th>\n",
              "      <td>11</td>\n",
              "      <td>2</td>\n",
              "      <td>21</td>\n",
              "      <td>0</td>\n",
              "      <td>11</td>\n",
              "      <td>7</td>\n",
              "      <td>2</td>\n",
              "    </tr>\n",
              "    <tr>\n",
              "      <th>562</th>\n",
              "      <td>9</td>\n",
              "      <td>10</td>\n",
              "      <td>6</td>\n",
              "      <td>0</td>\n",
              "      <td>9</td>\n",
              "      <td>21</td>\n",
              "      <td>10</td>\n",
              "    </tr>\n",
              "    <tr>\n",
              "      <th>563</th>\n",
              "      <td>1</td>\n",
              "      <td>7</td>\n",
              "      <td>30</td>\n",
              "      <td>1</td>\n",
              "      <td>7</td>\n",
              "      <td>5</td>\n",
              "      <td>1</td>\n",
              "    </tr>\n",
              "    <tr>\n",
              "      <th>564</th>\n",
              "      <td>2</td>\n",
              "      <td>3</td>\n",
              "      <td>21</td>\n",
              "      <td>1</td>\n",
              "      <td>3</td>\n",
              "      <td>7</td>\n",
              "      <td>3</td>\n",
              "    </tr>\n",
              "    <tr>\n",
              "      <th>565</th>\n",
              "      <td>7</td>\n",
              "      <td>11</td>\n",
              "      <td>30</td>\n",
              "      <td>1</td>\n",
              "      <td>11</td>\n",
              "      <td>5</td>\n",
              "      <td>11</td>\n",
              "    </tr>\n",
              "    <tr>\n",
              "      <th>566</th>\n",
              "      <td>3</td>\n",
              "      <td>9</td>\n",
              "      <td>2</td>\n",
              "      <td>1</td>\n",
              "      <td>9</td>\n",
              "      <td>14</td>\n",
              "      <td>3</td>\n",
              "    </tr>\n",
              "    <tr>\n",
              "      <th>567</th>\n",
              "      <td>2</td>\n",
              "      <td>8</td>\n",
              "      <td>18</td>\n",
              "      <td>1</td>\n",
              "      <td>8</td>\n",
              "      <td>9</td>\n",
              "      <td>8</td>\n",
              "    </tr>\n",
              "    <tr>\n",
              "      <th>568</th>\n",
              "      <td>10</td>\n",
              "      <td>7</td>\n",
              "      <td>26</td>\n",
              "      <td>1</td>\n",
              "      <td>7</td>\n",
              "      <td>27</td>\n",
              "      <td>7</td>\n",
              "    </tr>\n",
              "    <tr>\n",
              "      <th>569</th>\n",
              "      <td>9</td>\n",
              "      <td>11</td>\n",
              "      <td>30</td>\n",
              "      <td>0</td>\n",
              "      <td>9</td>\n",
              "      <td>5</td>\n",
              "      <td>11</td>\n",
              "    </tr>\n",
              "    <tr>\n",
              "      <th>570</th>\n",
              "      <td>1</td>\n",
              "      <td>8</td>\n",
              "      <td>18</td>\n",
              "      <td>1</td>\n",
              "      <td>8</td>\n",
              "      <td>9</td>\n",
              "      <td>8</td>\n",
              "    </tr>\n",
              "    <tr>\n",
              "      <th>571</th>\n",
              "      <td>2</td>\n",
              "      <td>10</td>\n",
              "      <td>21</td>\n",
              "      <td>1</td>\n",
              "      <td>10</td>\n",
              "      <td>7</td>\n",
              "      <td>2</td>\n",
              "    </tr>\n",
              "    <tr>\n",
              "      <th>572</th>\n",
              "      <td>7</td>\n",
              "      <td>3</td>\n",
              "      <td>26</td>\n",
              "      <td>1</td>\n",
              "      <td>3</td>\n",
              "      <td>27</td>\n",
              "      <td>3</td>\n",
              "    </tr>\n",
              "    <tr>\n",
              "      <th>573</th>\n",
              "      <td>8</td>\n",
              "      <td>3</td>\n",
              "      <td>2</td>\n",
              "      <td>1</td>\n",
              "      <td>3</td>\n",
              "      <td>14</td>\n",
              "      <td>3</td>\n",
              "    </tr>\n",
              "    <tr>\n",
              "      <th>574</th>\n",
              "      <td>10</td>\n",
              "      <td>2</td>\n",
              "      <td>9</td>\n",
              "      <td>1</td>\n",
              "      <td>2</td>\n",
              "      <td>8</td>\n",
              "      <td>10</td>\n",
              "    </tr>\n",
              "    <tr>\n",
              "      <th>575</th>\n",
              "      <td>8</td>\n",
              "      <td>10</td>\n",
              "      <td>9</td>\n",
              "      <td>1</td>\n",
              "      <td>10</td>\n",
              "      <td>8</td>\n",
              "      <td>10</td>\n",
              "    </tr>\n",
              "    <tr>\n",
              "      <th>576</th>\n",
              "      <td>10</td>\n",
              "      <td>3</td>\n",
              "      <td>2</td>\n",
              "      <td>0</td>\n",
              "      <td>10</td>\n",
              "      <td>14</td>\n",
              "      <td>10</td>\n",
              "    </tr>\n",
              "  </tbody>\n",
              "</table>\n",
              "<p>577 rows × 7 columns</p>\n",
              "</div>"
            ],
            "text/plain": [
              "     team1  team2  city  toss_decision  toss_winner  venue  winner\n",
              "0        2      3     2              1            3     14       2\n",
              "1        5      9     6              0            5     22       5\n",
              "2        6      7     9              0            6      8       7\n",
              "3        1      3    22              0            1     34       3\n",
              "4        4      2    21              0            4      7       2\n",
              "5        9      6    16              0            9     26       6\n",
              "6        4      7    14              0            4     23       7\n",
              "7        5      1     7              1            1     15       5\n",
              "8        4      6    14              1            6     23       6\n",
              "9        9      1     6              1            1     22       9\n",
              "10       3      6     2              1            6     14       6\n",
              "11       2      5     7              0            2     15       5\n",
              "12       1      4    22              1            4      4       4\n",
              "13       7      9     6              0            7     22       9\n",
              "14       5      3     2              0            5     14       5\n",
              "15       2      1    21              0            2      7       1\n",
              "16       7      3     9              1            3      8       7\n",
              "17       4      9    14              1            9     23       9\n",
              "18       6      2    16              0            6     26       6\n",
              "19       5      7     7              0            5     15       7\n",
              "20       4      3    14              0            4     23       3\n",
              "21       9      2     6              0            9     22       9\n",
              "22       1      7    22              1            7      4       1\n",
              "23       5      6    16              0            5     26       6\n",
              "24       3      9     2              1            9     14       9\n",
              "25       5      4     7              1            4     15       4\n",
              "26       6      1    22              1            1      4       1\n",
              "27       7      5     9              1            5      8       5\n",
              "28       2      3    21              0            2      7       2\n",
              "29       4      6    16              1            6     26       6\n",
              "..     ...    ...   ...            ...          ...    ...     ...\n",
              "547      8      7    27              1            7     25       7\n",
              "548      2      9    21              1            9      7       2\n",
              "549      7     11     9              1           11      8      11\n",
              "550      8     10    14              1           10     23      10\n",
              "551     11      3     2              1            3     14       3\n",
              "552      9      7     6              1            7     21       9\n",
              "553     10      1    30              1            1      5      10\n",
              "554      2      8    21              1            8      7       8\n",
              "555      3      9     6              1            9     21       3\n",
              "556     10     11    30              0           10      5      10\n",
              "557      3      1     2              1            1     14       1\n",
              "558     10      7    14              1            7     23       7\n",
              "559      1      9    30              0            1      5       9\n",
              "560      3      8     2              1            8     14       3\n",
              "561     11      2    21              0           11      7       2\n",
              "562      9     10     6              0            9     21      10\n",
              "563      1      7    30              1            7      5       1\n",
              "564      2      3    21              1            3      7       3\n",
              "565      7     11    30              1           11      5      11\n",
              "566      3      9     2              1            9     14       3\n",
              "567      2      8    18              1            8      9       8\n",
              "568     10      7    26              1            7     27       7\n",
              "569      9     11    30              0            9      5      11\n",
              "570      1      8    18              1            8      9       8\n",
              "571      2     10    21              1           10      7       2\n",
              "572      7      3    26              1            3     27       3\n",
              "573      8      3     2              1            3     14       3\n",
              "574     10      2     9              1            2      8      10\n",
              "575      8     10     9              1           10      8      10\n",
              "576     10      3     2              0           10     14      10\n",
              "\n",
              "[577 rows x 7 columns]"
            ]
          },
          "metadata": {
            "tags": []
          },
          "execution_count": 26
        }
      ]
    },
    {
      "cell_type": "code",
      "metadata": {
        "id": "JafYKWOz8_gY",
        "outputId": "71e59f73-40eb-4289-e021-0ddf00f037b8"
      },
      "source": [
        "kk.head(10)"
      ],
      "execution_count": null,
      "outputs": [
        {
          "output_type": "execute_result",
          "data": {
            "text/html": [
              "<div>\n",
              "<style scoped>\n",
              "    .dataframe tbody tr th:only-of-type {\n",
              "        vertical-align: middle;\n",
              "    }\n",
              "\n",
              "    .dataframe tbody tr th {\n",
              "        vertical-align: top;\n",
              "    }\n",
              "\n",
              "    .dataframe thead th {\n",
              "        text-align: right;\n",
              "    }\n",
              "</style>\n",
              "<table border=\"1\" class=\"dataframe\">\n",
              "  <thead>\n",
              "    <tr style=\"text-align: right;\">\n",
              "      <th></th>\n",
              "      <th>team1</th>\n",
              "      <th>team2</th>\n",
              "      <th>city</th>\n",
              "      <th>toss_decision</th>\n",
              "      <th>toss_winner</th>\n",
              "      <th>venue</th>\n",
              "      <th>winner</th>\n",
              "    </tr>\n",
              "  </thead>\n",
              "  <tbody>\n",
              "    <tr>\n",
              "      <th>0</th>\n",
              "      <td>2</td>\n",
              "      <td>3</td>\n",
              "      <td>2</td>\n",
              "      <td>1</td>\n",
              "      <td>3</td>\n",
              "      <td>14</td>\n",
              "      <td>2</td>\n",
              "    </tr>\n",
              "    <tr>\n",
              "      <th>1</th>\n",
              "      <td>5</td>\n",
              "      <td>9</td>\n",
              "      <td>6</td>\n",
              "      <td>0</td>\n",
              "      <td>5</td>\n",
              "      <td>22</td>\n",
              "      <td>5</td>\n",
              "    </tr>\n",
              "    <tr>\n",
              "      <th>2</th>\n",
              "      <td>6</td>\n",
              "      <td>7</td>\n",
              "      <td>9</td>\n",
              "      <td>0</td>\n",
              "      <td>6</td>\n",
              "      <td>8</td>\n",
              "      <td>7</td>\n",
              "    </tr>\n",
              "    <tr>\n",
              "      <th>3</th>\n",
              "      <td>1</td>\n",
              "      <td>3</td>\n",
              "      <td>22</td>\n",
              "      <td>0</td>\n",
              "      <td>1</td>\n",
              "      <td>34</td>\n",
              "      <td>3</td>\n",
              "    </tr>\n",
              "    <tr>\n",
              "      <th>4</th>\n",
              "      <td>4</td>\n",
              "      <td>2</td>\n",
              "      <td>21</td>\n",
              "      <td>0</td>\n",
              "      <td>4</td>\n",
              "      <td>7</td>\n",
              "      <td>2</td>\n",
              "    </tr>\n",
              "    <tr>\n",
              "      <th>5</th>\n",
              "      <td>9</td>\n",
              "      <td>6</td>\n",
              "      <td>16</td>\n",
              "      <td>0</td>\n",
              "      <td>9</td>\n",
              "      <td>26</td>\n",
              "      <td>6</td>\n",
              "    </tr>\n",
              "    <tr>\n",
              "      <th>6</th>\n",
              "      <td>4</td>\n",
              "      <td>7</td>\n",
              "      <td>14</td>\n",
              "      <td>0</td>\n",
              "      <td>4</td>\n",
              "      <td>23</td>\n",
              "      <td>7</td>\n",
              "    </tr>\n",
              "    <tr>\n",
              "      <th>7</th>\n",
              "      <td>5</td>\n",
              "      <td>1</td>\n",
              "      <td>7</td>\n",
              "      <td>1</td>\n",
              "      <td>1</td>\n",
              "      <td>15</td>\n",
              "      <td>5</td>\n",
              "    </tr>\n",
              "    <tr>\n",
              "      <th>8</th>\n",
              "      <td>4</td>\n",
              "      <td>6</td>\n",
              "      <td>14</td>\n",
              "      <td>1</td>\n",
              "      <td>6</td>\n",
              "      <td>23</td>\n",
              "      <td>6</td>\n",
              "    </tr>\n",
              "    <tr>\n",
              "      <th>9</th>\n",
              "      <td>9</td>\n",
              "      <td>1</td>\n",
              "      <td>6</td>\n",
              "      <td>1</td>\n",
              "      <td>1</td>\n",
              "      <td>22</td>\n",
              "      <td>9</td>\n",
              "    </tr>\n",
              "  </tbody>\n",
              "</table>\n",
              "</div>"
            ],
            "text/plain": [
              "   team1  team2  city  toss_decision  toss_winner  venue  winner\n",
              "0      2      3     2              1            3     14       2\n",
              "1      5      9     6              0            5     22       5\n",
              "2      6      7     9              0            6      8       7\n",
              "3      1      3    22              0            1     34       3\n",
              "4      4      2    21              0            4      7       2\n",
              "5      9      6    16              0            9     26       6\n",
              "6      4      7    14              0            4     23       7\n",
              "7      5      1     7              1            1     15       5\n",
              "8      4      6    14              1            6     23       6\n",
              "9      9      1     6              1            1     22       9"
            ]
          },
          "metadata": {
            "tags": []
          },
          "execution_count": 27
        }
      ]
    },
    {
      "cell_type": "code",
      "metadata": {
        "id": "oJ9WXlGy8_gZ"
      },
      "source": [
        "from sklearn.linear_model import LogisticRegression\n",
        "from sklearn.ensemble import RandomForestClassifier\n",
        "from sklearn.tree import DecisionTreeClassifier, export_graphviz\n",
        "from sklearn import metrics\n",
        "def classification_model(model, data, predictors, outcome):\n",
        "        model.fit(data[predictors],data[outcome])\n",
        "        predictions = model.predict(data[predictors])\n",
        "        print(predictions)\n",
        "        accuracy = metrics.accuracy_score(predictions,data[outcome])\n",
        "        print('Accuracy : %s' % '{0:.3%}'.format(accuracy))"
      ],
      "execution_count": null,
      "outputs": []
    },
    {
      "cell_type": "code",
      "metadata": {
        "id": "FPJygo3u8_gZ",
        "outputId": "0f1fc6f4-773d-4644-ecfb-5f3dd15d9d89"
      },
      "source": [
        "#logistic Regression\n",
        "outcome_var=['winner']\n",
        "predictor_var = ['team1', 'team2', 'venue', 'toss_winner','city','toss_decision']\n",
        "model =LogisticRegression()\n",
        "classification_model(model, df,predictor_var,outcome_var)"
      ],
      "execution_count": null,
      "outputs": [
        {
          "output_type": "stream",
          "text": [
            "[ 3  5  5  1  2  6  5  3  3  9  3  5  1  9  5  1  2  6  1  5  1  6  2  5\n",
            "  3  3  2  9  2  1  3  9  1  6  5  2  1  9  9  1  5  1  1  2  3  2  1  5\n",
            "  3  3  5  3  2  1  5  6  6  2  3  5  9  5  1  9  5  5  3  5  1  1  5  3\n",
            "  1  6  1  5  6  6  2  5  1  3  1  1  5  9  5  1  3  6  5  7  2  1  1  2\n",
            "  1  6  9  5  1  9  1  1  9  5  6  5  2  5  3  6  6  1  1  2  2  9  2  5\n",
            "  9  5  2  3  3  5  3  3  2  5  9  2  3  9  2  5  5  9  6  1  5  2  5  5\n",
            "  2  6  5  2  5  5  1  5  6  2  3  5  1  3  5  1  1  2  5  1  5  9  3  2\n",
            "  9  5  1  2  2  2  2  5  3  6  5 10  2  6  3  9 10  1  1  6  5  6 10  2\n",
            "  9  5  6  2  9  1  1  9  1  9  9  2 10  7  3  1  3 10  2  9  5  1  9  1\n",
            "  5  8  9  3  3  2  1  5  9  6  9  9  1  5  9  3  1  9  9  2  5  9  2  1\n",
            "  3 10  3  1  1  1  1  5  3  2  9  9  3  2  1  6  2  3  3  1  5  9  2  5\n",
            "  9  2  5  1  5  6  6  5  9  9  5  9  1  2  1  6  6  9  2  5  2  5  1  5\n",
            " 14  6  3  7  5  7  9  1  3  5  6  9  1  6  6  1  9  9  5  3  1  5  1  9\n",
            "  3  5  9  9  1  1  1  3  3  5  2  3  9  5  5  6  5  1  1  9  3  9  5  9\n",
            "  3  5  9  6  9  9  9  1  5  9  2  3  5  9  5  3  9  1  5  2  6  1  3  9\n",
            "  1  1  9  5  1  5  9  2  9  3  1  6  5  6  1  9  9  9  3  6  9  1  6  9\n",
            "  1  2  5  1  3  6  2  6  3  5  5  5  2  2  1  1  9  9  1  5  6  6  9  3\n",
            "  1  5  5  3  9  1  6  3  6  2  1  1  9  9  3  9  1  5  9  9  9  9  1  2\n",
            "  5  6  2  3  9  3  9  2  6  5  9  5  2  9  1  7  1  9  3  2  9  1  3  2\n",
            "  6  9  1  3  7  5  1  9  1  3  5  2  5  2  1 10  2  5  3  2  9  2  3  2\n",
            "  3  1  5  2  9  2  3  3  9  1  3  9  5  2  5  5  1  3  2  5  2  6  1  5\n",
            "  9  1  9  1  6  6  2  9  6  1  1  1  1  6  2  9  3  1  6  9  6  1  9  3\n",
            "  3  9  1  9  7  2  9  1  2  3  9  9  1  9  2  9  9  2  3  6  3  9  9  9\n",
            "  9  2  2  3 10  3  9  2  3  2  9  1  1 10  3  3  9 10  3  5  1  9  9  9\n",
            "  5]\n",
            "Accuracy : 30.329%\n"
          ],
          "name": "stdout"
        },
        {
          "output_type": "stream",
          "text": [
            "C:\\ProgramData\\Anaconda3\\lib\\site-packages\\sklearn\\linear_model\\logistic.py:432: FutureWarning: Default solver will be changed to 'lbfgs' in 0.22. Specify a solver to silence this warning.\n",
            "  FutureWarning)\n",
            "C:\\ProgramData\\Anaconda3\\lib\\site-packages\\sklearn\\utils\\validation.py:724: DataConversionWarning: A column-vector y was passed when a 1d array was expected. Please change the shape of y to (n_samples, ), for example using ravel().\n",
            "  y = column_or_1d(y, warn=True)\n",
            "C:\\ProgramData\\Anaconda3\\lib\\site-packages\\sklearn\\linear_model\\logistic.py:469: FutureWarning: Default multi_class will be changed to 'auto' in 0.22. Specify the multi_class option to silence this warning.\n",
            "  \"this warning.\", FutureWarning)\n"
          ],
          "name": "stderr"
        }
      ]
    },
    {
      "cell_type": "code",
      "metadata": {
        "id": "XIRC2K-s8_ga",
        "outputId": "3721e6a8-d74a-4ae5-bba3-4d9d9acf1fcb"
      },
      "source": [
        "#Gaussian NAive bayes algorithm\n",
        "from sklearn.naive_bayes import GaussianNB\n",
        "outcome_var=['winner']\n",
        "predictor_var = ['team1', 'team2', 'venue', 'toss_winner','city','toss_decision']\n",
        "model = GaussianNB() \n",
        "classification_model(model, df,predictor_var,outcome_var)"
      ],
      "execution_count": null,
      "outputs": [
        {
          "output_type": "stream",
          "text": [
            "[ 3  5  5  1  2  6  5 12 12 12  3  5 12  5  5  2 12 12  5  5  5  6 12  6\n",
            " 12 12 12 12  2 12  3 12  1 12  5  2 12 12 12 12  5 12 12  2  3 12 12  5\n",
            " 12 12  5  3  2 12  5 12  6 12  3  5 12  5  1 12  5  5  3  5  5  1  6 12\n",
            "  1  6  2  2  6  6  2  5  1 12  1  1  5 12  5  1  6  6  2 12  5  1 12  5\n",
            "  1  6 12  5  5 12  1 12 12  6  5  5 12  5 12  5  6 12 12 12  2 12 12  5\n",
            "  6  3  2 12  3  5 12  5  2  5 12  2  3 12 12  5  5  3  6 12  5 12  5  5\n",
            "  2  6  5  2  2  5  6  5  6  2  3  3  1  3  5 12 12  2  5  6  5 12  3  2\n",
            " 12  5  2  2  2  2  2  5 12 13  5 13  2  6  3 12 13 12 12 12  5 12 12 12\n",
            " 12  5 13 12 12 12 12 12 12 12 12 12 13 12 12 12 12 10 12 12  5 12 12 12\n",
            "  5 12 12 12 12  2 12  9 10 12  4 12 12  5 12  3  1 12 12 12  5  5 12  1\n",
            " 12 10  3 12 12 12 12  5 12 12 12 12  3 12 12 13  2  3 12 12  5 12  2  5\n",
            " 13 12  5 12  5 10  6  5 12 12  5 12  1 12 12 13  3 13 12  6  2  5 12  5\n",
            "  4  6 12  1  5  2  5 12  3  5 13 12 12 12 12  2 12 10  5  3 12  7 12 12\n",
            " 12  5 12  1 12  5  1  3 12  5 12  3 12  5  3 13  5 12  1 12  3 13  5  1\n",
            " 12  2 12 10 12  3 12  5  5 10  2  3  2 12  5 12 12  2  9  2  6  1 12 12\n",
            " 12  1 13  1  1  5  1  2  5 12  1 13  9  6  1 12 12  1 12 13 12 12 12 12\n",
            " 13 12  5 12 12  6 12 13  3  5  5  7  2  2  1 12  5  6 12  5 12  6 12 12\n",
            " 12 10  2  6  3  1 13 12  5 12  2  1 12  3  3 12 12  5 12  9  3 12 12 12\n",
            "  5  9  5  3 12 12  6  2  6  3 12  5 12 12 12 12 12 12  3 12 12 12 12 12\n",
            " 12  3 12 12 12  5 12 12 12 12  3 12 10 12  1 10 12  5  3 12  9 12  3 12\n",
            "  3  1  5 12 12  2  3 12 12 12  3 12  3 12  5 12  1 12 12  5  2 13  1  5\n",
            " 10  6 12 12  6  6  2  3  9  1  5 12 12 11 12 12 12 12 13 12  6 12 10  3\n",
            " 12 12 12 12 11 12 12  1 12 12 11 12 12 12 12 12 12 12  3 12 12 11 12  9\n",
            " 12 12 12 12 11  3 12  1  3 13  9 12 12 11 12 12 12 11 12 12 12  3 12 12\n",
            "  9]\n",
            "Accuracy : 20.624%\n"
          ],
          "name": "stdout"
        },
        {
          "output_type": "stream",
          "text": [
            "C:\\ProgramData\\Anaconda3\\lib\\site-packages\\sklearn\\utils\\validation.py:724: DataConversionWarning: A column-vector y was passed when a 1d array was expected. Please change the shape of y to (n_samples, ), for example using ravel().\n",
            "  y = column_or_1d(y, warn=True)\n"
          ],
          "name": "stderr"
        }
      ]
    },
    {
      "cell_type": "code",
      "metadata": {
        "id": "S-61S65z8_ga",
        "outputId": "16e590d3-6bb9-40de-d8be-f6473189eb3e"
      },
      "source": [
        "# knn algorithm\n",
        "from sklearn.neighbors import KNeighborsClassifier\n",
        "model = KNeighborsClassifier(n_neighbors=3)\n",
        "classification_model(model, df,predictor_var,outcome_var)"
      ],
      "execution_count": null,
      "outputs": [
        {
          "output_type": "stream",
          "text": [
            "C:\\ProgramData\\Anaconda3\\lib\\site-packages\\ipykernel_launcher.py:9: DataConversionWarning: A column-vector y was passed when a 1d array was expected. Please change the shape of y to (n_samples, ), for example using ravel().\n",
            "  if __name__ == '__main__':\n"
          ],
          "name": "stderr"
        },
        {
          "output_type": "stream",
          "text": [
            "[ 3  5  5  1  2  6  7  5  6  9  3  5  1  9  3  1  3  9  6  5  4  2  1  6\n",
            "  9  5  1  5  2  6  1  5  2  6  9  2  1  9  7  1  9  2  1  5  3  5  9  5\n",
            "  9  1  5  3  2  6  3  6  1  6  1  1  7  4  4  2  4  7  2  3  3  2  7  3\n",
            "  1  5  4  9  5  5  1  3  5  3  2  4  5  4  3  2  5  5  7  2  4  1  4  4\n",
            "  3  1  3  4  3  9  1  4  3  7  4  3  2  3  7  3  2  4  4  1  1  9  1  3\n",
            "  6  3  2  1  3  7  4  6  1  4  5  1  3  9  1  6  1  3  6  1  2  1  5  7\n",
            "  2  2  5  1  2  2  4  5  6  2  3  1  4  3  9  6  4  1  5  6  5  4  1  2\n",
            "  4  4  2  1  3  2  5  2  6  3  2 13  2  6  1  9 13  4  6  1  5  9  4  2\n",
            "  4  4  1  2  9  1  3  9  1  6  5  3  2  3  3  6  3  4  2  6  5  1 10  1\n",
            "  5  2  2  6  9  2  1  3 10  6 10  9  2  5  9  3  4  9  6  2  7  5  2  1\n",
            "  4  9  3  1  5  1  1  5  5  6  9  6  3  1  6 13  1  3  7  1  5  9  2  4\n",
            " 13  2  3  1  6  3  2  7  5  9  5  7  1  2  6  6  1  3  7  9  2  7  1  2\n",
            "  4  6  9  2  5  2  5  1  3  2  6 10  1  6  3  2  5  6  9  1  1  7  1  4\n",
            "  3  3  9  2  4  6  2  1  5  2  2  1 10  5  5 13 10  6  1  5  3 13  9  1\n",
            "  5  2  6  3  9  3  9  6  4 10  5  3  7  9  5  3  9  1  5  2  6  1  5 10\n",
            "  6  1 13 10  7  5  2  2 10  9  1  6  3  6  1  9  9  2  3  1 10  2  6  9\n",
            "  1  1  5  1  9 10  7  6  3 10  1  6  2  5  2  3  5  5  3  7  9  5  9  5\n",
            "  2  6  3  5  6  7  5  3  6 10  5  1  6  3  6  5  1  2  2  6  3 10  1  2\n",
            "  3  1  5  3 10  2  6  5  2  6  9 10  2  9  3  3  1  9  3  2  9  1  2  1\n",
            "  6  2  2  5  3  5  3  6  9  3  6  2  6  6  1 11  2  6  1  7  6 10  3  7\n",
            "  6  1  5  3 10  2  3  5  7  1  3 10  1  6  5  2  1  9  6  5  2  7  1  5\n",
            " 10  6  9  1  2  3  5  3  1  1  3  5  1  1  2  7  3  1  8  7  2  1 10  3\n",
            "  9  9  1  9  3  7 10  7  2  1 10  7  1  6  7 10  7  2  1  7  2 10 10  3\n",
            "  7 10  2  9 11  1  7  1  3  2 10  1  3 11  9  8  7 11  8  2  3  3  2 10\n",
            "  3]\n",
            "Accuracy : 62.565%\n"
          ],
          "name": "stdout"
        }
      ]
    },
    {
      "cell_type": "code",
      "metadata": {
        "id": "vskwxfr78_gb",
        "outputId": "929d935d-d63f-4b8d-d057-2bdf9ba6f3a3"
      },
      "source": [
        "kk.head(3)"
      ],
      "execution_count": null,
      "outputs": [
        {
          "output_type": "execute_result",
          "data": {
            "text/html": [
              "<div>\n",
              "<style scoped>\n",
              "    .dataframe tbody tr th:only-of-type {\n",
              "        vertical-align: middle;\n",
              "    }\n",
              "\n",
              "    .dataframe tbody tr th {\n",
              "        vertical-align: top;\n",
              "    }\n",
              "\n",
              "    .dataframe thead th {\n",
              "        text-align: right;\n",
              "    }\n",
              "</style>\n",
              "<table border=\"1\" class=\"dataframe\">\n",
              "  <thead>\n",
              "    <tr style=\"text-align: right;\">\n",
              "      <th></th>\n",
              "      <th>team1</th>\n",
              "      <th>team2</th>\n",
              "      <th>city</th>\n",
              "      <th>toss_decision</th>\n",
              "      <th>toss_winner</th>\n",
              "      <th>venue</th>\n",
              "      <th>winner</th>\n",
              "    </tr>\n",
              "  </thead>\n",
              "  <tbody>\n",
              "    <tr>\n",
              "      <th>0</th>\n",
              "      <td>2</td>\n",
              "      <td>3</td>\n",
              "      <td>2</td>\n",
              "      <td>1</td>\n",
              "      <td>3</td>\n",
              "      <td>14</td>\n",
              "      <td>2</td>\n",
              "    </tr>\n",
              "    <tr>\n",
              "      <th>1</th>\n",
              "      <td>5</td>\n",
              "      <td>9</td>\n",
              "      <td>6</td>\n",
              "      <td>0</td>\n",
              "      <td>5</td>\n",
              "      <td>22</td>\n",
              "      <td>5</td>\n",
              "    </tr>\n",
              "    <tr>\n",
              "      <th>2</th>\n",
              "      <td>6</td>\n",
              "      <td>7</td>\n",
              "      <td>9</td>\n",
              "      <td>0</td>\n",
              "      <td>6</td>\n",
              "      <td>8</td>\n",
              "      <td>7</td>\n",
              "    </tr>\n",
              "  </tbody>\n",
              "</table>\n",
              "</div>"
            ],
            "text/plain": [
              "   team1  team2  city  toss_decision  toss_winner  venue  winner\n",
              "0      2      3     2              1            3     14       2\n",
              "1      5      9     6              0            5     22       5\n",
              "2      6      7     9              0            6      8       7"
            ]
          },
          "metadata": {
            "tags": []
          },
          "execution_count": 32
        }
      ]
    },
    {
      "cell_type": "code",
      "metadata": {
        "id": "TeCqPMSO8_gb",
        "outputId": "618ca108-bdbe-449c-ebf6-59e0edc920ef"
      },
      "source": [
        "from sklearn import svm\n",
        "# Create SVM classification object \n",
        "model = svm.SVC(kernel='rbf', C=1, gamma=1) \n",
        "outcome_var=['winner']\n",
        "predictor_var = ['team1', 'team2', 'venue', 'toss_winner','city','toss_decision']\n",
        "classification_model(model, df,predictor_var,outcome_var)"
      ],
      "execution_count": null,
      "outputs": [
        {
          "output_type": "stream",
          "text": [
            "C:\\ProgramData\\Anaconda3\\lib\\site-packages\\sklearn\\utils\\validation.py:724: DataConversionWarning: A column-vector y was passed when a 1d array was expected. Please change the shape of y to (n_samples, ), for example using ravel().\n",
            "  y = column_or_1d(y, warn=True)\n"
          ],
          "name": "stderr"
        },
        {
          "output_type": "stream",
          "text": [
            "[ 3  5  6  1  2  6  7  5  6  9  6  5  1  9  5  1  3  9  6  5  3  9  1  6\n",
            "  3  4  1  5  2  6  1  5  2  6  9  2  1  9  7  1  9  6  1  5  3  6  9  5\n",
            "  9  1  5  3  2  6  5  6  5  6  1  3  7  4  5  2  4  7  6  3  4  7  9  4\n",
            "  1  6  3  9  7  5  1  3  6  5  9  3  5  6  7  4  6  5  7  9  5  1  7  4\n",
            "  3  1  7  3  6  9  5  4  9  7  2  3  2  5  7  3  4  3  4  2  1  7  2  4\n",
            "  6  3  2  1  3  5  4  6  3  4  9  1  3  6  1  6  2  3  6  1  2  1  5  7\n",
            "  2  3  5  1  9  7  6  5  6  2  3  1  4  3  9  6  4  1  5  3  5  4  1  2\n",
            "  5  4  1  1  5  3  5  2  6  3  1 13  2  6  1  9 13  4  6 12  5  9  7  2\n",
            "  5  4  1 12  9  1  3  9  1  6  5  3  5  4  2  6  3  7  2  6  5  1 12  2\n",
            "  5  1 12  7  3  2  1  3 13  6 13  9  6  5  9  3  4  9 12  4  9  5  2  6\n",
            "  4 14  3  1  5  1  3  5  5  7 13  6  3  5  6  9  1  3  7  1  5  9  2  4\n",
            "  5  2  6  1  6  3  9  7  5  9  5 13  1  2  6  7  1  4  7  9  2  7  1  2\n",
            "  4  7  3  1  5  2  6  1  3  2  6  9  1  5  3  1  5  6  9  1  5  7  1  9\n",
            "  3  4  9  2  4  6  2  5  5  2  2  1 10  6  1  9 10  6  1  5  3 13 10  1\n",
            "  5  2  6 13  9  3 10  6  5 10  5  3  7  9  5  3  9  1  5  2  6  1  5  7\n",
            "  6  1  5 10  7  5  3  2 10  3  1  6  3  6  1  5  9  2  3  1 10  2  6  9\n",
            "  1 13  5  1  9 10  9  7  3 10  5  6  1  1  2  3  9  6  3  7  9  5  9  5\n",
            "  2 10  5  6  9  7  5  9  6 10  5  1  6  3  6  5  1  2  9 10  9 10  1  2\n",
            "  6  1  5  3  9  2  6  3  2  1  9 10  2  9  3 10  1  9  3  2  9  1  2  5\n",
            "  9  2  2  5  6  5  3  6  9  3  1  2  7  6  1  7  2  6  1  7  9 10  3  7\n",
            "  3  1  5  3 10  2  6  5  7  1  3 10  1  6  5  2  1  3 10  5  2 10  3  5\n",
            " 10  7  9  1  3  5  6  3  1  1  3  5  1  1  2  8  3  1  8  7  2  8  9  3\n",
            " 10  2  1 10  3  7 10  8  2  1 11  7  1  8  7 10  9  1  2  7  2 11 10  3\n",
            "  9 10  8  3 10  1  7  9  3  2 10  1  3 11  3  8  7 11  8  2  3  3 10 10\n",
            "  3]\n",
            "Accuracy : 89.081%\n"
          ],
          "name": "stdout"
        }
      ]
    },
    {
      "cell_type": "code",
      "metadata": {
        "id": "laz9LEjB8_gc",
        "outputId": "f3409194-9ed3-4142-ecd7-0f7f62975f14"
      },
      "source": [
        "#Gradient boost algorithm\n",
        "from sklearn.ensemble import GradientBoostingClassifier\n",
        "model= GradientBoostingClassifier(n_estimators=1000, learning_rate=0.1, max_depth=3, random_state=0)\n",
        "classification_model(model, df,predictor_var,outcome_var)"
      ],
      "execution_count": null,
      "outputs": [
        {
          "output_type": "stream",
          "text": [
            "C:\\ProgramData\\Anaconda3\\lib\\site-packages\\sklearn\\ensemble\\gradient_boosting.py:1450: DataConversionWarning: A column-vector y was passed when a 1d array was expected. Please change the shape of y to (n_samples, ), for example using ravel().\n",
            "  y = column_or_1d(y, warn=True)\n"
          ],
          "name": "stderr"
        },
        {
          "output_type": "stream",
          "text": [
            "[ 3  5  6  1  2  6  7  5  6  9  6  5  1  9  5  1  3  9  6  5  3  2  1  6\n",
            "  3  4  1  5  2  6  1  5  2  6  9  2  1  9  7  1  9  3  1  5  3  6  9  5\n",
            "  9  1  5  4  2  6  5  6  5  6  1  3  7  4  5  2  4  7  6  9  4  7  9  4\n",
            "  1  6  3  9  7  5  1  9  6  5  9  3  5  6  7  4  6  5  7  9  5  1  7  4\n",
            "  3  1  7  3  6  9  5  4  9  7  2  3  2  5  7  3  4  3  4  2  1  7  2  4\n",
            "  7  3  2  1  3  5  4  6  3  4  9  1  3  6  1  6  2 14  6  1  2  1  5  7\n",
            "  2  3  5  1  9  7  6  5  6  2  4  9  4  3  9  6  4  1  5  3  5  4  1  2\n",
            "  5  4  2  1  5  3  5  2  6  3  1 13  2  6  1  9 13  4  6 12  5  9  7  2\n",
            " 12  4  1 12  9  5  3  9  1  6  5  3  5  4  2  6  3  7  2  6  5  1 12  2\n",
            "  5  1 12  7  3  2  1  3 13  6 13  9  3  5  9  3  4  9 12  4  9  5  2  6\n",
            "  4 14  5  1  5  1  3  5  5  7 13  6  3  5  6 13  1  3  7  1  5  9  2  4\n",
            " 13  2  6  1  6  3  2  7  5  9  5 13  1  2  6  7  1  4  7  9  2  7  1  2\n",
            "  4  7  3  1  5  2  6  1  3  2  6  9  3  5  3  2  5  6  9  1  5  7  1  9\n",
            "  3  4  9  2  4  1  2  5  5  2  2  1 10  6  1 13 10  6  1  5  3 13 10  1\n",
            "  5  2  6 13  9 14 10  1  5 10  5  3  7  9  5  3  9  1  5  2  6  1  5  7\n",
            "  6  1 13 10  7  5  3  2 10  3  1  6  3  6  1  5  9  2  3  1 10  2  6  9\n",
            "  1 13  5  1  9 10  9  7  3 10  5  6  1  1  2  3  9  6  3  7  9  5  9  5\n",
            "  2 10  5  6  9  7  5  9  6 10  5  1  6  3  6  5  3  2  9 10  9 10  5  2\n",
            "  6  1  5  3  9  2  7  3  2  1  9 10  2  9  3 10  1  9  3  2  9  1  2  5\n",
            "  9  2  2  5  6  5  3  6  9  3  1  2  7  6  1  7  2  6  1  2  9 10  5  7\n",
            "  3  1  5  3 10  2  6  5  7  1  3 10  9  6  5  2  1  3 10  5  2 10  3  5\n",
            " 10  7  9  1  3  5  6 14  1  1  3  5  1 11  2  8  3  1  8  7  2  8  9  3\n",
            " 10  2  1 10  3  7 10  8  2  1 11  8  1  8  2 10  9  1  2  7  2 11 10  3\n",
            "  9 10  8  3 10  1  7  9  3  2 10  1  3 11  3  8  7 11  8  2  3  3 10 10\n",
            "  3]\n",
            "Accuracy : 89.601%\n"
          ],
          "name": "stdout"
        }
      ]
    },
    {
      "cell_type": "code",
      "metadata": {
        "id": "NJ8epx188_gc",
        "outputId": "9b12f309-c094-4db4-863c-2b02b8f3eda8"
      },
      "source": [
        "#Decision tree algorithm\n",
        "from sklearn import tree\n",
        "model = tree.DecisionTreeClassifier(criterion='gini')\n",
        "outcome_var=['winner']\n",
        "predictor_var = ['team1', 'team2', 'venue', 'toss_winner','city','toss_decision']\n",
        "classification_model(model, df,predictor_var,outcome_var)"
      ],
      "execution_count": null,
      "outputs": [
        {
          "output_type": "stream",
          "text": [
            "[ 3  5  6  1  2  6  7  1  6  9  6  5  1  9  5  1  3  9  6  5  3  2  1  6\n",
            "  3  4  1  5  2  6  1  5  2  6  9  2  1  9  7  1  9  3  1  5  3  6  9  5\n",
            "  9  1  5  3  2  6  5  6  5  6  1  3  7  4  5  2  4  7  6  3  4  7  9  4\n",
            "  1  6  3  9  7  5  1  3  6  5  9  3  5  6  7  4  6  5  7  9  5  1  7  4\n",
            "  3  1  7  3  6  9  5  4  9  7  2  3  2  5  7  3  4  3  4  2  1  7  2  4\n",
            "  6  3  2  1  3  5  4  6  3  4  9  1  3  6  1  6  2  3  6  1  2  1  5  7\n",
            "  2  3  5  1  9  7  6  1  6  2  3  1  4  3  9  6  4  1  5  3  5  4  1  2\n",
            "  5  4  1  1  5  3  5  2  6  3  1 13  2  6  1  9 13  4  6 12  5  9  7  2\n",
            " 12  4  1 12  9  1  3  9  1  6  5  3  5  4  2  6  3  7  2  6  5  1 12  2\n",
            "  5  1 12  7  3  2  1  3 13  5 13  9  3  5  9  3  4  9 12  4  9  5  2  6\n",
            "  4 14  3  1  5  1  3  5  1  7 13  6  3  5  6  9  1  3  7  1  5  9  2  4\n",
            "  5  2  6  1  6  3  2  7  5  3  5 13  1  2  3  7  1  4  7  9  2  7  1  2\n",
            "  4  7  3  1  5  2  6  1  3  2  6  9  1  5  3  1  5  6  9  1  5  7  1  9\n",
            "  3  4  9  2  4  1  2  5  5  2  2  1 10  6  1  9 10  6  1  5  3 13 10  1\n",
            "  5  2  6 13  9  3 10  1  5 10  5  3  7  9  5  3  9  1  5  2  6  1  5  7\n",
            "  3  1  5 10  7  5  3  2 10  3  1  6  3  6  1  5  9  2  3  1 10  2  5  9\n",
            "  1 13  5  1  9 10  9  7  3 10  5  6  1  1  2  3  9  6  3  7  9  5  9  5\n",
            "  2 10  5  6  9  7  5  9  6 10  5  1  6  3  6  5  1  2  9 10  9 10  1  2\n",
            "  6  1  5  3  9  2  6  3  2  1  9 10  2  9  3 10  1  9  3  2  9  1  2  5\n",
            "  9  2  2  5  6  5  3  6  9  3  1  2  7  6  1  7  2  6  1  2  9 10  3  7\n",
            "  3  1  5  3 10  2  6  5  7  1  3 10  1  6  5  2  1  3 10  1  2 10  3  5\n",
            " 10  7  3  1  3  5  6  3  1  1  3  5  1 11  2  8  3  1  8  7  2  8  9  3\n",
            " 10  2  1 10  3  7 10  8  2  1 11  8  1  8  2 10  9  1  2  7  2 11 10  3\n",
            "  9 10  8  3 10  1  7  9  3  2 10  1  3 11  3  8  7 11  8  2  3  3 10 10\n",
            "  3]\n",
            "Accuracy : 89.601%\n"
          ],
          "name": "stdout"
        }
      ]
    },
    {
      "cell_type": "code",
      "metadata": {
        "id": "2fslsVLx8_gd",
        "outputId": "9f757ace-f2f2-4733-8dfb-e9e2ca7e3886"
      },
      "source": [
        "#Random forest classifier\n",
        "model = RandomForestClassifier(n_estimators=100)\n",
        "outcome_var = ['winner']\n",
        "predictor_var = ['team1', 'team2', 'venue', 'toss_winner','city','toss_decision']\n",
        "classification_model(model, df,predictor_var,outcome_var)"
      ],
      "execution_count": null,
      "outputs": [
        {
          "output_type": "stream",
          "text": [
            "C:\\ProgramData\\Anaconda3\\lib\\site-packages\\ipykernel_launcher.py:9: DataConversionWarning: A column-vector y was passed when a 1d array was expected. Please change the shape of y to (n_samples,), for example using ravel().\n",
            "  if __name__ == '__main__':\n"
          ],
          "name": "stderr"
        },
        {
          "output_type": "stream",
          "text": [
            "[ 3  5  7  3  2  6  7  5  6  9  6  5  1  9  5  1  3  9  6  5  3  2  1  6\n",
            "  9  4  1  5  2  6  1  5  2  6  9  2  1  9  7  1  9  3  1  5  3  6  9  5\n",
            "  9  7  5  3  2  6  5  6  5  6  1  3  7  4  5  2  4  7  6  3  4  7  9  4\n",
            "  1  6  3  9  7  5  1  3  6  5  9  3  5  6  7  4  6  5  7  9  5  1  7  4\n",
            "  3  1  7  3  6  9  5  4  9  7  2  3  2  5  7  3  4  3  4  2  1  7  2  4\n",
            "  6  3  5  7  3  5  4  6  3  4  9  1  3  6  1  6  2  3  6  1  2  1  5  7\n",
            "  2  3  5  1  9  7  6  5  6  2  3  9  4  3  9  6  4  1  5  3  5  4  1  2\n",
            "  5  4  2  1  5  3  5  2  6  3  1 13  2  6  1  9 13  4  6 12  5  9  7  2\n",
            " 12  4  1 12  9  1  3  9  1  6  5  3  5  4  2  6  3  7  2  6  5  1 12  2\n",
            "  5  1 12  7  9  5  1  3 13  6 13  9  3  5  9  3  4  9 12  4  9  5  2  6\n",
            "  4 14  3  1  5  1  3  5  5  7 13  6  3  5  6 13  1  3  7  1  5  9  2  4\n",
            " 13  2  6  1  6  3  2  7  5  3  5 13  1  2  6 13  1  4  7  9  2  7  1  2\n",
            "  4  7  9  1  5  2  6  1  3  2  6  9  1  5  3  2  5  6  9  1  5  7  1  9\n",
            "  3  4  9  2  4  1  2  5  5  2  2  1 10  7  1 13 10  6  1  5  3 13 10  1\n",
            "  5  2  6 13  9  3 10  1  5 10  5  3  7  9  5  3  9  1  5  2  6  3  5  7\n",
            "  6  1 13 10  7  5  3  2 10  9  1  6  3  6  1  5  9  2  3  1 10  2  6  9\n",
            "  1 13  5  1  9 10  9 13  3 10  5  6  1  1  2  3  9  6  3  7  9  5  9  5\n",
            "  2 10  5  6  9  7  5  9  6 10  5  1  6  3  6  5  1  2  9 10  9 10  1  2\n",
            "  6  1  5  3  9  2  6  3  2  1  9 10  2  9  3 10  1  9  3  2  9  1  2  5\n",
            "  9  2  2  5  6  5  3  6  9 10  1  2  7  6  1  7  2  6  1  2  9 10  3  7\n",
            "  3  1  5  3 10  2  6  5  7  1  3 10  9  6  5  2  1  9 10  5  2 10  3  5\n",
            " 10  7  3  1  3  5  6  3  1  1  3  5  1 11  2  8 10  1  8  7  2  8  9  3\n",
            " 10  2  1 10  3  7 10  8  2  1 11  8  1  8  2 10  9  1  2  7  2 11 10  3\n",
            "  9 10  8  3 10  1  7  9  3  2 10  1  3 11  9  8  7 11  8  2  3  3 10 10\n",
            "  3]\n",
            "Accuracy : 89.601%\n"
          ],
          "name": "stdout"
        }
      ]
    },
    {
      "cell_type": "code",
      "metadata": {
        "id": "km8fNls88_ge",
        "outputId": "3ab285fd-bddd-4b2b-8380-4e3c660e3763"
      },
      "source": [
        "kk.head()"
      ],
      "execution_count": null,
      "outputs": [
        {
          "output_type": "execute_result",
          "data": {
            "text/html": [
              "<div>\n",
              "<style scoped>\n",
              "    .dataframe tbody tr th:only-of-type {\n",
              "        vertical-align: middle;\n",
              "    }\n",
              "\n",
              "    .dataframe tbody tr th {\n",
              "        vertical-align: top;\n",
              "    }\n",
              "\n",
              "    .dataframe thead th {\n",
              "        text-align: right;\n",
              "    }\n",
              "</style>\n",
              "<table border=\"1\" class=\"dataframe\">\n",
              "  <thead>\n",
              "    <tr style=\"text-align: right;\">\n",
              "      <th></th>\n",
              "      <th>team1</th>\n",
              "      <th>team2</th>\n",
              "      <th>city</th>\n",
              "      <th>toss_decision</th>\n",
              "      <th>toss_winner</th>\n",
              "      <th>venue</th>\n",
              "      <th>winner</th>\n",
              "    </tr>\n",
              "  </thead>\n",
              "  <tbody>\n",
              "    <tr>\n",
              "      <th>0</th>\n",
              "      <td>2</td>\n",
              "      <td>3</td>\n",
              "      <td>2</td>\n",
              "      <td>1</td>\n",
              "      <td>3</td>\n",
              "      <td>14</td>\n",
              "      <td>2</td>\n",
              "    </tr>\n",
              "    <tr>\n",
              "      <th>1</th>\n",
              "      <td>5</td>\n",
              "      <td>9</td>\n",
              "      <td>6</td>\n",
              "      <td>0</td>\n",
              "      <td>5</td>\n",
              "      <td>22</td>\n",
              "      <td>5</td>\n",
              "    </tr>\n",
              "    <tr>\n",
              "      <th>2</th>\n",
              "      <td>6</td>\n",
              "      <td>7</td>\n",
              "      <td>9</td>\n",
              "      <td>0</td>\n",
              "      <td>6</td>\n",
              "      <td>8</td>\n",
              "      <td>7</td>\n",
              "    </tr>\n",
              "    <tr>\n",
              "      <th>3</th>\n",
              "      <td>1</td>\n",
              "      <td>3</td>\n",
              "      <td>22</td>\n",
              "      <td>0</td>\n",
              "      <td>1</td>\n",
              "      <td>34</td>\n",
              "      <td>3</td>\n",
              "    </tr>\n",
              "    <tr>\n",
              "      <th>4</th>\n",
              "      <td>4</td>\n",
              "      <td>2</td>\n",
              "      <td>21</td>\n",
              "      <td>0</td>\n",
              "      <td>4</td>\n",
              "      <td>7</td>\n",
              "      <td>2</td>\n",
              "    </tr>\n",
              "  </tbody>\n",
              "</table>\n",
              "</div>"
            ],
            "text/plain": [
              "   team1  team2  city  toss_decision  toss_winner  venue  winner\n",
              "0      2      3     2              1            3     14       2\n",
              "1      5      9     6              0            5     22       5\n",
              "2      6      7     9              0            6      8       7\n",
              "3      1      3    22              0            1     34       3\n",
              "4      4      2    21              0            4      7       2"
            ]
          },
          "metadata": {
            "tags": []
          },
          "execution_count": 37
        }
      ]
    },
    {
      "cell_type": "code",
      "metadata": {
        "scrolled": true,
        "id": "EA5fVD3Q8_ge",
        "outputId": "0edd095f-e0c4-4947-e446-32a18415244c"
      },
      "source": [
        "test=pd.read_csv(\"D:/machine learning/project/ipl2/test.csv\")\n",
        "test.head()"
      ],
      "execution_count": null,
      "outputs": [
        {
          "output_type": "execute_result",
          "data": {
            "text/html": [
              "<div>\n",
              "<style scoped>\n",
              "    .dataframe tbody tr th:only-of-type {\n",
              "        vertical-align: middle;\n",
              "    }\n",
              "\n",
              "    .dataframe tbody tr th {\n",
              "        vertical-align: top;\n",
              "    }\n",
              "\n",
              "    .dataframe thead th {\n",
              "        text-align: right;\n",
              "    }\n",
              "</style>\n",
              "<table border=\"1\" class=\"dataframe\">\n",
              "  <thead>\n",
              "    <tr style=\"text-align: right;\">\n",
              "      <th></th>\n",
              "      <th>team1</th>\n",
              "      <th>team2</th>\n",
              "      <th>city</th>\n",
              "      <th>toss_winner</th>\n",
              "      <th>venue</th>\n",
              "      <th>toss_decision</th>\n",
              "      <th>date</th>\n",
              "      <th>winner</th>\n",
              "    </tr>\n",
              "  </thead>\n",
              "  <tbody>\n",
              "    <tr>\n",
              "      <th>0</th>\n",
              "      <td>KXIP</td>\n",
              "      <td>MI</td>\n",
              "      <td>3</td>\n",
              "      <td>MI</td>\n",
              "      <td>3</td>\n",
              "      <td>0</td>\n",
              "      <td>11-Apr</td>\n",
              "      <td>MI</td>\n",
              "    </tr>\n",
              "    <tr>\n",
              "      <th>1</th>\n",
              "      <td>SRH</td>\n",
              "      <td>RR</td>\n",
              "      <td>5</td>\n",
              "      <td>RR</td>\n",
              "      <td>5</td>\n",
              "      <td>0</td>\n",
              "      <td>27-Apr</td>\n",
              "      <td>RR</td>\n",
              "    </tr>\n",
              "    <tr>\n",
              "      <th>2</th>\n",
              "      <td>KKR</td>\n",
              "      <td>MI</td>\n",
              "      <td>3</td>\n",
              "      <td>MI</td>\n",
              "      <td>3</td>\n",
              "      <td>0</td>\n",
              "      <td>5-May</td>\n",
              "      <td>MI</td>\n",
              "    </tr>\n",
              "    <tr>\n",
              "      <th>3</th>\n",
              "      <td>CSK</td>\n",
              "      <td>MI</td>\n",
              "      <td>7</td>\n",
              "      <td>CSK</td>\n",
              "      <td>7</td>\n",
              "      <td>1</td>\n",
              "      <td>7-May</td>\n",
              "      <td>MI</td>\n",
              "    </tr>\n",
              "    <tr>\n",
              "      <th>4</th>\n",
              "      <td>DC</td>\n",
              "      <td>CSK</td>\n",
              "      <td>22</td>\n",
              "      <td>CSK</td>\n",
              "      <td>24</td>\n",
              "      <td>1</td>\n",
              "      <td>10-May</td>\n",
              "      <td>CSK</td>\n",
              "    </tr>\n",
              "  </tbody>\n",
              "</table>\n",
              "</div>"
            ],
            "text/plain": [
              "  team1 team2  city toss_winner  venue  toss_decision    date winner\n",
              "0  KXIP    MI     3          MI      3              0  11-Apr     MI\n",
              "1   SRH    RR     5          RR      5              0  27-Apr     RR\n",
              "2   KKR    MI     3          MI      3              0   5-May     MI\n",
              "3   CSK    MI     7         CSK      7              1   7-May     MI\n",
              "4    DC   CSK    22         CSK     24              1  10-May    CSK"
            ]
          },
          "metadata": {
            "tags": []
          },
          "execution_count": 38
        }
      ]
    },
    {
      "cell_type": "code",
      "metadata": {
        "id": "Xa7XDWLw8_gf"
      },
      "source": [
        "test=test.drop([\"date\",\"winner\"], axis=1,inplace=False)"
      ],
      "execution_count": null,
      "outputs": []
    },
    {
      "cell_type": "code",
      "metadata": {
        "id": "Cjv3UguE8_gf",
        "outputId": "fac8e018-52e5-4dd7-e96a-be088cf331ed"
      },
      "source": [
        "test.replace(encode, inplace=True)\n",
        "test.head(2)"
      ],
      "execution_count": null,
      "outputs": [
        {
          "output_type": "execute_result",
          "data": {
            "text/html": [
              "<div>\n",
              "<style scoped>\n",
              "    .dataframe tbody tr th:only-of-type {\n",
              "        vertical-align: middle;\n",
              "    }\n",
              "\n",
              "    .dataframe tbody tr th {\n",
              "        vertical-align: top;\n",
              "    }\n",
              "\n",
              "    .dataframe thead th {\n",
              "        text-align: right;\n",
              "    }\n",
              "</style>\n",
              "<table border=\"1\" class=\"dataframe\">\n",
              "  <thead>\n",
              "    <tr style=\"text-align: right;\">\n",
              "      <th></th>\n",
              "      <th>team1</th>\n",
              "      <th>team2</th>\n",
              "      <th>city</th>\n",
              "      <th>toss_winner</th>\n",
              "      <th>venue</th>\n",
              "      <th>toss_decision</th>\n",
              "    </tr>\n",
              "  </thead>\n",
              "  <tbody>\n",
              "    <tr>\n",
              "      <th>0</th>\n",
              "      <td>9</td>\n",
              "      <td>1</td>\n",
              "      <td>3</td>\n",
              "      <td>1</td>\n",
              "      <td>3</td>\n",
              "      <td>0</td>\n",
              "    </tr>\n",
              "    <tr>\n",
              "      <th>1</th>\n",
              "      <td>10</td>\n",
              "      <td>6</td>\n",
              "      <td>5</td>\n",
              "      <td>6</td>\n",
              "      <td>5</td>\n",
              "      <td>0</td>\n",
              "    </tr>\n",
              "  </tbody>\n",
              "</table>\n",
              "</div>"
            ],
            "text/plain": [
              "  team1 team2  city toss_winner  venue  toss_decision\n",
              "0     9     1     3           1      3              0\n",
              "1    10     6     5           6      5              0"
            ]
          },
          "metadata": {
            "tags": []
          },
          "execution_count": 40
        }
      ]
    },
    {
      "cell_type": "code",
      "metadata": {
        "id": "qdqGz46I8_gg"
      },
      "source": [
        "out=model.predict(test)"
      ],
      "execution_count": null,
      "outputs": []
    },
    {
      "cell_type": "code",
      "metadata": {
        "id": "wJQ-dBJ-8_gg",
        "outputId": "e266818f-f43c-4187-cfee-fa06560a2860"
      },
      "source": [
        "out"
      ],
      "execution_count": null,
      "outputs": [
        {
          "output_type": "execute_result",
          "data": {
            "text/plain": [
              "array([1, 6, 1, 5, 5], dtype=int64)"
            ]
          },
          "metadata": {
            "tags": []
          },
          "execution_count": 42
        }
      ]
    },
    {
      "cell_type": "code",
      "metadata": {
        "id": "KXndAiUG8_gg"
      },
      "source": [
        "predicted_winner=[]\n",
        "for i in out:\n",
        "    predicted_winner.append(list(dicVal.keys())[list(dicVal.values()).index(i)])"
      ],
      "execution_count": null,
      "outputs": []
    },
    {
      "cell_type": "code",
      "metadata": {
        "id": "2bU3wfJU8_gh",
        "outputId": "9a7c9585-c664-44c4-e1ae-226ff7f21e71"
      },
      "source": [
        "predicted_winner"
      ],
      "execution_count": null,
      "outputs": [
        {
          "output_type": "execute_result",
          "data": {
            "text/plain": [
              "['MI', 'RR', 'MI', 'CSK', 'CSK']"
            ]
          },
          "metadata": {
            "tags": []
          },
          "execution_count": 44
        }
      ]
    },
    {
      "cell_type": "code",
      "metadata": {
        "id": "96STjv1Y8_gh",
        "outputId": "cf2aef65-eae0-42ec-a1ce-7ca2eef1e81a"
      },
      "source": [
        "print()\n",
        "print(\"Feature importances: If we ignore teams, Venue seems to be one of important factors in determining winners followed by toss winning, city\")\n",
        "imp_input = pd.Series(model.feature_importances_, index=predictor_var).sort_values(ascending=False)\n",
        "print()\n",
        "print(imp_input)"
      ],
      "execution_count": null,
      "outputs": [
        {
          "output_type": "stream",
          "text": [
            "\n",
            "Feature importances: If we ignore teams, Venue seems to be one of important factors in determining winners followed by toss winning, city\n",
            "\n",
            "team2            0.250095\n",
            "team1            0.205930\n",
            "toss_winner      0.176994\n",
            "venue            0.173876\n",
            "city             0.158289\n",
            "toss_decision    0.034816\n",
            "dtype: float64\n"
          ],
          "name": "stdout"
        }
      ]
    },
    {
      "cell_type": "code",
      "metadata": {
        "id": "uSO6Qb1M8_gi",
        "outputId": "17e9eb0e-65c1-4ad2-a649-5508c5f07c77"
      },
      "source": [
        "count =0\n",
        "for i in range(577): \n",
        "    if kk[\"toss_winner\"][i]==kk[\"winner\"][i]==1 :\n",
        "        count=count+1\n",
        "import matplotlib.pyplot as mlt\n",
        "mlt.style.use('fivethirtyeight')\n",
        "kk2=kk[kk['toss_winner']==1]\n",
        "slices=[count,(len(df_fil)-count)]\n",
        "mlt.pie(slices,labels=['Toss & win','Toss & lose'],startangle=90,shadow=True,explode=(0,0),autopct='%1.1f%%',colors=['y','r'])\n",
        "fig = mlt.gcf()\n",
        "fig.set_size_inches(6,6)\n",
        "mlt.show()"
      ],
      "execution_count": null,
      "outputs": [
        {
          "output_type": "display_data",
          "data": {
            "image/png": "[encoded data removed]",
            "text/plain": [
              "<Figure size 432x432 with 1 Axes>"
            ]
          },
          "metadata": {
            "tags": []
          }
        }
      ]
    },
    {
      "cell_type": "code",
      "metadata": {
        "id": "Gi4akdKp8_gi",
        "outputId": "65ab64fa-7514-4729-aa39-071affa1ad27"
      },
      "source": [
        "count =0\n",
        "for i in range(577): \n",
        "    if kk[\"toss_winner\"][i]==kk[\"winner\"][i]==5 :\n",
        "        count=count+1\n",
        "import matplotlib.pyplot as mlt\n",
        "mlt.style.use('fivethirtyeight')\n",
        "kk2=kk[kk['toss_winner']==1]\n",
        "slices=[count,(len(df_fil)-count)]\n",
        "mlt.pie(slices,labels=['Toss & win','Toss & lose'],startangle=90,shadow=True,explode=(0,0),autopct='%1.1f%%',colors=['g','b'])\n",
        "fig = mlt.gcf()\n",
        "fig.set_size_inches(6,6)\n",
        "mlt.show()"
      ],
      "execution_count": null,
      "outputs": [
        {
          "output_type": "display_data",
          "data": {
            "image/png": "[encoded data removed]",
            "text/plain": [
              "<Figure size 432x432 with 1 Axes>"
            ]
          },
          "metadata": {
            "tags": []
          }
        }
      ]
    },
    {
      "cell_type": "code",
      "metadata": {
        "id": "vkC2Bvas8_gj",
        "outputId": "5640f63e-8ddb-43f9-c1dc-f2845ca66f5d"
      },
      "source": [
        "count =0\n",
        "for i in range(577): \n",
        "    if kk[\"toss_winner\"][i]==kk[\"winner\"][i]==9 :\n",
        "        count=count+1\n",
        "import matplotlib.pyplot as mlt\n",
        "mlt.style.use('fivethirtyeight')\n",
        "kk2=kk[kk['toss_winner']==1]\n",
        "slices=[count,(len(df_fil)-count)]\n",
        "mlt.pie(slices,labels=['Toss & win','Toss & lose'],startangle=90,shadow=True,explode=(0,0),autopct='%1.1f%%',colors=['w','b'])\n",
        "fig = mlt.gcf()\n",
        "fig.set_size_inches(6,6)\n",
        "mlt.show()"
      ],
      "execution_count": null,
      "outputs": [
        {
          "output_type": "display_data",
          "data": {
            "image/png": "[encoded data removed]",
            "text/plain": [
              "<Figure size 432x432 with 1 Axes>"
            ]
          },
          "metadata": {
            "tags": []
          }
        }
      ]
    },
    {
      "cell_type": "code",
      "metadata": {
        "id": "hsb1gqHW8_gk",
        "outputId": "05690288-72e8-4aea-9d28-aa38a191cc62"
      },
      "source": [
        "import matplotlib.pyplot as mlt\n",
        "mlt.style.use('fivethirtyeight')\n",
        "kk2=kk[kk['toss_winner']==kk['winner']]\n",
        "slices=[len(df_fil),(577-len(df_fil))]\n",
        "mlt.pie(slices,labels=['Toss & win','Toss & lose'],startangle=90,shadow=True,explode=(0,0),autopct='%1.1f%%',colors=['r','g'])\n",
        "fig = mlt.gcf()\n",
        "fig.set_size_inches(6,6)\n",
        "mlt.show()"
      ],
      "execution_count": null,
      "outputs": [
        {
          "output_type": "display_data",
          "data": {
            "image/png": "[encoded data removed]",
            "text/plain": [
              "<Figure size 432x432 with 1 Axes>"
            ]
          },
          "metadata": {
            "tags": []
          }
        }
      ]
    },
    {
      "cell_type": "code",
      "metadata": {
        "scrolled": true,
        "id": "QJTznbKQ8_gk",
        "outputId": "bc98d624-b6e5-4bd7-b88b-3bcae2668da3"
      },
      "source": [
        "import seaborn as sns\n",
        "team1=dicVal['CSK']\n",
        "team2=dicVal['RCB']\n",
        "mtemp=matches[((matches['team1']==team1)|(matches['team2']==team1))&((matches['team1']==team2)|(matches['team2']==team2))]\n",
        "sns.countplot(x='venue', hue='winner',data=mtemp,palette='Set3')\n",
        "mlt.xticks(rotation='vertical')\n",
        "leg = mlt.legend( loc = 'upper right')\n",
        "fig=mlt.gcf()\n",
        "fig.set_size_inches(10,6)\n",
        "mlt.show()\n",
        "le.classes_[15] "
      ],
      "execution_count": null,
      "outputs": [
        {
          "output_type": "display_data",
          "data": {
            "image/png": "[encoded data removed]",
            "text/plain": [
              "<Figure size 720x432 with 1 Axes>"
            ]
          },
          "metadata": {
            "tags": []
          }
        },
        {
          "output_type": "execute_result",
          "data": {
            "text/plain": [
              "'MA Chidambaram Stadium, Chepauk'"
            ]
          },
          "metadata": {
            "tags": []
          },
          "execution_count": 52
        }
      ]
    },
    {
      "cell_type": "markdown",
      "metadata": {
        "id": "836TZWD68_gl"
      },
      "source": [
        "# random forest is best fit algorithm\n",
        "            accuracy FINDING 89.801%\n",
        "            "
      ]
    },
    {
      "cell_type": "code",
      "metadata": {
        "id": "WbEEoqIn8_gl"
      },
      "source": [
        ""
      ],
      "execution_count": null,
      "outputs": []
    }
  ]
}